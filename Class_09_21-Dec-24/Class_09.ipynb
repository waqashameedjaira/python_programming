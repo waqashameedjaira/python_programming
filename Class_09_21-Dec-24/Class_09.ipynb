{
 "cells": [
  {
   "cell_type": "code",
   "execution_count": 1,
   "id": "35686f1d-7c4c-4aec-ac8d-33c98f2f6856",
   "metadata": {},
   "outputs": [],
   "source": [
    "#JSON Java script object notation"
   ]
  },
  {
   "cell_type": "code",
   "execution_count": 2,
   "id": "9ee29a48-2446-4afb-a3fa-7d9e110144a0",
   "metadata": {},
   "outputs": [
    {
     "data": {
      "text/plain": [
       "{'name': 'Ayan', 'phone_no': 11111111111}"
      ]
     },
     "execution_count": 2,
     "metadata": {},
     "output_type": "execute_result"
    }
   ],
   "source": [
    "# Syntax\n",
    "{'name': 'Ayan', 'phone_no': 11111111111}"
   ]
  },
  {
   "cell_type": "code",
   "execution_count": 3,
   "id": "adf51542-c90d-46ce-a9e9-5475604fde06",
   "metadata": {},
   "outputs": [
    {
     "ename": "TypeError",
     "evalue": "write() argument must be str, not list",
     "output_type": "error",
     "traceback": [
      "\u001b[1;31m---------------------------------------------------------------------------\u001b[0m",
      "\u001b[1;31mTypeError\u001b[0m                                 Traceback (most recent call last)",
      "Cell \u001b[1;32mIn[3], line 3\u001b[0m\n\u001b[0;32m      1\u001b[0m names \u001b[38;5;241m=\u001b[39m [\u001b[38;5;124m'\u001b[39m\u001b[38;5;124mQasim\u001b[39m\u001b[38;5;124m'\u001b[39m,\u001b[38;5;124m'\u001b[39m\u001b[38;5;124mUzair\u001b[39m\u001b[38;5;124m'\u001b[39m, \u001b[38;5;124m'\u001b[39m\u001b[38;5;124mAyan\u001b[39m\u001b[38;5;124m'\u001b[39m ]\n\u001b[0;32m      2\u001b[0m \u001b[38;5;28;01mwith\u001b[39;00m \u001b[38;5;28mopen\u001b[39m (\u001b[38;5;124m\"\u001b[39m\u001b[38;5;124mnames.txt\u001b[39m\u001b[38;5;124m\"\u001b[39m,\u001b[38;5;124m\"\u001b[39m\u001b[38;5;124mw\u001b[39m\u001b[38;5;124m\"\u001b[39m) \u001b[38;5;28;01mas\u001b[39;00m file:\n\u001b[1;32m----> 3\u001b[0m     file\u001b[38;5;241m.\u001b[39mwrite(names)\n",
      "\u001b[1;31mTypeError\u001b[0m: write() argument must be str, not list"
     ]
    }
   ],
   "source": [
    "names = ['Qasim','Uzair', 'Ayan' ]\n",
    "with open (\"names.txt\",\"w\") as file:\n",
    "    file.write(names)"
   ]
  },
  {
   "cell_type": "code",
   "execution_count": 8,
   "id": "20f76fc4-2ae1-4f0b-bcb8-650206e008bd",
   "metadata": {},
   "outputs": [],
   "source": [
    "names = '[\"Qasim\",\"Uzair\", \"Ayan\"]'\n",
    "with open (\"names.txt\",\"w\") as file:\n",
    "    file.write(names)"
   ]
  },
  {
   "cell_type": "code",
   "execution_count": 13,
   "id": "e093a2c0-1539-4b02-baf8-cc834793ee14",
   "metadata": {},
   "outputs": [
    {
     "name": "stdout",
     "output_type": "stream",
     "text": [
      "['Qasim', 'Uzair', 'Ayan']\n"
     ]
    }
   ],
   "source": [
    "import json\n",
    "\n",
    "with open(\"names1.json\") as file:\n",
    "    data = json.load(file)\n",
    "    print(data)\n",
    "    "
   ]
  },
  {
   "cell_type": "code",
   "execution_count": 11,
   "id": "a3d33ad6-d913-435f-9729-010a1a9fc23f",
   "metadata": {},
   "outputs": [],
   "source": [
    "import json\n",
    "names1 = ['Qasim','Uzair', 'Ayan' ]\n",
    "with open (\"names1.json\",\"w\") as file:\n",
    "    json.dump(names1,file)\n",
    "    "
   ]
  },
  {
   "cell_type": "code",
   "execution_count": 16,
   "id": "754ca69c-5603-4862-9292-dd8f9089f5f3",
   "metadata": {},
   "outputs": [
    {
     "name": "stdout",
     "output_type": "stream",
     "text": [
      "{'name': 'Waqas', 'age': 30, 'city': 'karachi'}\n"
     ]
    }
   ],
   "source": [
    "import json\n",
    "\n",
    "def json_to_dict(j):\n",
    "    return json.loads(j)\n",
    "\n",
    "json_string = '{\"name\" : \"Waqas\", \"age\" : 30, \"city\" : \"karachi\"}'\n",
    "value = json_to_dict(json_string)\n",
    "print(value)"
   ]
  },
  {
   "cell_type": "markdown",
   "id": "82fdbe7f-7b81-4659-94db-9f28ac391f29",
   "metadata": {},
   "source": [
    "### Error Handling"
   ]
  },
  {
   "cell_type": "code",
   "execution_count": 20,
   "id": "6d726ec1-ce31-4405-9bec-3cc01dda2617",
   "metadata": {},
   "outputs": [
    {
     "ename": "SyntaxError",
     "evalue": "invalid syntax (3066646975.py, line 3)",
     "output_type": "error",
     "traceback": [
      "\u001b[1;36m  Cell \u001b[1;32mIn[20], line 3\u001b[1;36m\u001b[0m\n\u001b[1;33m    with open ()\"name2.json\" as file:\u001b[0m\n\u001b[1;37m                ^\u001b[0m\n\u001b[1;31mSyntaxError\u001b[0m\u001b[1;31m:\u001b[0m invalid syntax\n"
     ]
    }
   ],
   "source": [
    "# file not exist\n",
    "\n",
    "with open ()\"name2.json\" as file:\n",
    "    data = json.load(file)\n",
    "    print(data)"
   ]
  },
  {
   "cell_type": "code",
   "execution_count": 21,
   "id": "fd511831-11df-439a-b806-3c211d7f8962",
   "metadata": {},
   "outputs": [
    {
     "name": "stdout",
     "output_type": "stream",
     "text": [
      "1\n",
      "Error\n"
     ]
    }
   ],
   "source": [
    "# syntax\n",
    "\n",
    "try:\n",
    "    print(1)\n",
    "    with open(\"names2.json\") as file:\n",
    "        print(2)\n",
    "        data = json.load(file)\n",
    "        print(data)\n",
    "except:\n",
    "    print(\"Error\")\n",
    "    pass"
   ]
  },
  {
   "cell_type": "code",
   "execution_count": 22,
   "id": "f5059cbc-1d03-477b-8f92-105bd3a71541",
   "metadata": {},
   "outputs": [
    {
     "name": "stdout",
     "output_type": "stream",
     "text": [
      "1\n",
      "2\n",
      "['Qasim', 'Uzair', 'Ayan']\n"
     ]
    }
   ],
   "source": [
    "# syntax\n",
    "\n",
    "try:\n",
    "    print(1)\n",
    "    with open(\"names1.json\") as file:\n",
    "        print(2)\n",
    "        data = json.load(file)\n",
    "        print(data)\n",
    "except:\n",
    "    print(\"Error\")\n",
    "    pass"
   ]
  },
  {
   "cell_type": "code",
   "execution_count": 23,
   "id": "f0604903-a1fe-4eb1-9fc0-7791afe2553d",
   "metadata": {},
   "outputs": [
    {
     "name": "stdin",
     "output_type": "stream",
     "text": [
      "Enter a number:  33\n"
     ]
    },
    {
     "name": "stdout",
     "output_type": "stream",
     "text": [
      "error\n"
     ]
    }
   ],
   "source": [
    "try:\n",
    "    value = int(input((\"Enter a number: \")))\n",
    "    result = \"your number is\" + value\n",
    "    print(result)\n",
    "except:\n",
    "    print(\"error\")"
   ]
  },
  {
   "cell_type": "markdown",
   "id": "53454008-3092-434c-a304-0a8eccfacc5e",
   "metadata": {},
   "source": [
    "### Exception class"
   ]
  },
  {
   "cell_type": "code",
   "execution_count": 25,
   "id": "83ede80c-f102-40ca-b8aa-7bd45e064231",
   "metadata": {},
   "outputs": [
    {
     "name": "stdin",
     "output_type": "stream",
     "text": [
      "Enter a number:  9\n"
     ]
    },
    {
     "name": "stdout",
     "output_type": "stream",
     "text": [
      "can only concatenate str (not \"int\") to str\n"
     ]
    }
   ],
   "source": [
    "try:\n",
    "    value = int(input((\"Enter a number: \")))\n",
    "    result = \"your number is\" + value\n",
    "    print(result)\n",
    "except Exception as e:\n",
    "    print(e)"
   ]
  },
  {
   "cell_type": "code",
   "execution_count": 27,
   "id": "50cf72d2-6232-464b-ab9c-8ba4b938a8c9",
   "metadata": {},
   "outputs": [
    {
     "name": "stdout",
     "output_type": "stream",
     "text": [
      "[Errno 2] No such file or directory: 'names2.json'\n"
     ]
    }
   ],
   "source": [
    "try:\n",
    "    with open(\"names2.json\") as file:\n",
    "        data = json.leas(file)\n",
    "        print(data)\n",
    "except Exception as e:\n",
    "    print(e)"
   ]
  },
  {
   "cell_type": "markdown",
   "id": "e1ab2199-6d96-4b54-8d06-6a123666bea6",
   "metadata": {},
   "source": [
    "### types of error"
   ]
  },
  {
   "cell_type": "markdown",
   "id": "3f728dca-6511-47aa-b4db-b552cd34e383",
   "metadata": {},
   "source": [
    "### SyntaxError"
   ]
  },
  {
   "cell_type": "markdown",
   "id": "a54a72dd-bf0f-4bf5-877d-4b802c76e440",
   "metadata": {},
   "source": []
  },
  {
   "cell_type": "code",
   "execution_count": 32,
   "id": "afe46f09-b204-4b5d-a5ff-8ed7dceb6204",
   "metadata": {},
   "outputs": [
    {
     "name": "stdout",
     "output_type": "stream",
     "text": [
      "SMIT\n"
     ]
    }
   ],
   "source": [
    "try:\n",
    "    print(\"SMIT\")\n",
    "except SyntaxError as e:\n",
    "    print(e)"
   ]
  },
  {
   "cell_type": "code",
   "execution_count": 35,
   "id": "ee744825-7616-4a85-9b6a-a74abb8cc617",
   "metadata": {},
   "outputs": [
    {
     "name": "stdout",
     "output_type": "stream",
     "text": [
      "error\n",
      "name 'names2' is not defined\n"
     ]
    }
   ],
   "source": [
    "names = [\"Qasim\", \"uzair\", \"Ayan\"]\n",
    "try:\n",
    "    print(names2)\n",
    "except NameError as e:\n",
    "    print(\"error\")\n",
    "    print(e)\n",
    "except Exception as e:\n",
    "    print(e)"
   ]
  },
  {
   "cell_type": "markdown",
   "id": "cd6d6aa2-d311-4c36-9d4e-23aa429b213f",
   "metadata": {},
   "source": [
    "### finally"
   ]
  },
  {
   "cell_type": "code",
   "execution_count": 36,
   "id": "b30508f9-e5d8-4d58-8303-c14b2165dbd0",
   "metadata": {},
   "outputs": [
    {
     "name": "stdout",
     "output_type": "stream",
     "text": [
      "error\n",
      "name 'names2' is not defined\n",
      "Executed\n"
     ]
    }
   ],
   "source": [
    "names = [\"Qasim\", \"uzair\", \"Ayan\"]\n",
    "try:\n",
    "    print(names2)\n",
    "except NameError as e:\n",
    "    print(\"error\")\n",
    "    print(e)\n",
    "except Exception as e:\n",
    "    print(e)\n",
    "finally:\n",
    "    print(\"Executed\")"
   ]
  },
  {
   "cell_type": "markdown",
   "id": "3abfc439-89b6-4384-9269-16c00e93893f",
   "metadata": {},
   "source": [
    "### ZeroDivision Error\n",
    "\n",
    "# take a input number and divided 100 from thatnumber"
   ]
  },
  {
   "cell_type": "code",
   "execution_count": 39,
   "id": "2e2d3605-7eca-46bb-b0b0-199b2687ec0b",
   "metadata": {},
   "outputs": [
    {
     "name": "stdin",
     "output_type": "stream",
     "text": [
      "Enter a number:  0\n"
     ]
    },
    {
     "name": "stdout",
     "output_type": "stream",
     "text": [
      "division by zero\n",
      "Finally code excecuted\n"
     ]
    }
   ],
   "source": [
    "try:\n",
    "    num = int(input(\"Enter a number: \"))\n",
    "    print(100/num)\n",
    "except ZeroDivisionError as e:\n",
    "    print(e)\n",
    "finally:\n",
    "    print(\"Finally code excecuted\")"
   ]
  },
  {
   "cell_type": "code",
   "execution_count": null,
   "id": "d6dd9bce-0e13-48e7-951f-1e6696bf7a9d",
   "metadata": {},
   "outputs": [],
   "source": []
  }
 ],
 "metadata": {
  "kernelspec": {
   "display_name": "Python 3 (ipykernel)",
   "language": "python",
   "name": "python3"
  },
  "language_info": {
   "codemirror_mode": {
    "name": "ipython",
    "version": 3
   },
   "file_extension": ".py",
   "mimetype": "text/x-python",
   "name": "python",
   "nbconvert_exporter": "python",
   "pygments_lexer": "ipython3",
   "version": "3.11.10"
  }
 },
 "nbformat": 4,
 "nbformat_minor": 5
}
