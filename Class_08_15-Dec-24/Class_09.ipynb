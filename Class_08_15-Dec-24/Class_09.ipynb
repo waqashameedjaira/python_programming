{
 "cells": [
  {
   "cell_type": "markdown",
   "id": "656318a0-268f-4b1c-87ac-9c51699665d2",
   "metadata": {},
   "source": [
    "# WHile Loop"
   ]
  },
  {
   "cell_type": "code",
   "execution_count": 1,
   "id": "557e7352-a918-4aa9-859b-609bc39d6f89",
   "metadata": {},
   "outputs": [
    {
     "name": "stdin",
     "output_type": "stream",
     "text": [
      "Enter a number 5\n"
     ]
    },
    {
     "name": "stdout",
     "output_type": "stream",
     "text": [
      "1\n",
      "2\n",
      "8\n"
     ]
    }
   ],
   "source": [
    "num = int(input(\"Enter a number\"))\n",
    "\n",
    "i = 1\n",
    "fac = 1\n",
    "while(i<=num):\n",
    "    fac*=i\n",
    "    i+=i\n",
    "\n",
    "print(fac)\n"
   ]
  },
  {
   "cell_type": "code",
   "execution_count": 12,
   "id": "64bfb9e3-17a0-42ee-b0b4-a782187795c5",
   "metadata": {},
   "outputs": [],
   "source": [
    "with open ('../Class_08_15-Dec-24/file_handling.txt', 'w') as file:\n",
    "    file.write('writing a txt in file with w command\\n')\n"
   ]
  },
  {
   "cell_type": "code",
   "execution_count": 13,
   "id": "0de39acf-33f6-43b8-abcd-5e3a0ec426c8",
   "metadata": {},
   "outputs": [],
   "source": [
    "with open ('../Class_08_15-Dec-24/file_handling.txt', 'a') as file:\n",
    "    file.write('this is my second line\\n')\n",
    "    file.writelines('this is my thrid line\\n')"
   ]
  },
  {
   "cell_type": "code",
   "execution_count": 17,
   "id": "af54d308-bb17-48bb-8c42-b16b2014c44e",
   "metadata": {},
   "outputs": [
    {
     "name": "stdout",
     "output_type": "stream",
     "text": [
      "writing a txt in file with w command\n",
      "this is my second line\n",
      "this is my thrid line\n",
      "\n"
     ]
    }
   ],
   "source": [
    "with open ('../Class_08_15-Dec-24/file_handling.txt', 'r') as file:\n",
    "    file_contect = file.read()\n",
    "    print(file_contect)"
   ]
  },
  {
   "cell_type": "code",
   "execution_count": 19,
   "id": "3ee4b005-861e-46d7-8c79-17b4154cda59",
   "metadata": {},
   "outputs": [
    {
     "name": "stdout",
     "output_type": "stream",
     "text": [
      "3\n"
     ]
    }
   ],
   "source": [
    "with open ('../Class_08_15-Dec-24/file_handling.txt', 'r') as file:\n",
    "    file_contect = file.readlines()\n",
    "    print(len(file_contect))"
   ]
  },
  {
   "cell_type": "markdown",
   "id": "7eb11103-501c-46f1-9d54-38a0a2ddba2c",
   "metadata": {},
   "source": [
    "import shutil\n",
    "\n",
    "source_file = open('file_handling.txt', 'rb')\n",
    "\n",
    "dest_file = open('file2.txt', 'wb')\n",
    "shutil.copyfileobj(source_file, dest_file)"
   ]
  },
  {
   "cell_type": "markdown",
   "id": "6355016e-ac8d-4107-b6f7-2442b96f8926",
   "metadata": {},
   "source": [
    "with open('../Class_08_15-Dec-24/file"
   ]
  },
  {
   "cell_type": "markdown",
   "id": "92d19454-02bb-4831-9087-512b88cc0f86",
   "metadata": {},
   "source": [
    "### Modules"
   ]
  },
  {
   "cell_type": "markdown",
   "id": "e12179de-d983-4cc2-99c4-4febff1e03c2",
   "metadata": {},
   "source": [
    "def calculate_salary(salary, bonus=0.15):\n",
    "    new_salary = salary + (salary * bonus)\n",
    "    return new_salary"
   ]
  },
  {
   "cell_type": "code",
   "execution_count": 21,
   "id": "2e2c166d-4b23-4b6c-a5dd-5c8b52968bbc",
   "metadata": {},
   "outputs": [
    {
     "name": "stdin",
     "output_type": "stream",
     "text": [
      "Enter your current salary  1000\n"
     ]
    },
    {
     "data": {
      "text/plain": [
       "1150.0"
      ]
     },
     "execution_count": 21,
     "metadata": {},
     "output_type": "execute_result"
    }
   ],
   "source": [
    "from calculations import calculate_salary\n",
    "\n",
    "salary = float(input(\"Enter your current salary \"))\n",
    "calculate_salary(salary=salary)"
   ]
  },
  {
   "cell_type": "markdown",
   "id": "0ac4adcd-3635-4120-a283-18e500de7473",
   "metadata": {},
   "source": [
    "### CSV files\n",
    "- comma seprated files"
   ]
  },
  {
   "cell_type": "code",
   "execution_count": 25,
   "id": "02b5e068-5b78-49b1-96ea-84dafa558b85",
   "metadata": {},
   "outputs": [
    {
     "name": "stdout",
     "output_type": "stream",
     "text": [
      "name\tyear\n",
      "karachi\t2009\n",
      "islamabad\t2008\n",
      "lahore\t2007\n",
      "\n"
     ]
    }
   ],
   "source": [
    "# same as previous\n",
    "with open ('./data.csv') as file:  #by default mode is r\n",
    "    content = file.read()\n",
    "    print(content)"
   ]
  },
  {
   "cell_type": "code",
   "execution_count": 26,
   "id": "48650b2d-2675-4827-9202-da4356ebfaf8",
   "metadata": {},
   "outputs": [
    {
     "name": "stdout",
     "output_type": "stream",
     "text": [
      "<_csv.reader object at 0x0000014813F62320>\n"
     ]
    }
   ],
   "source": [
    "#methond2 with modele CSV\n",
    "import csv\n",
    "with open ('./data.csv') as file:  #by default mode is r\n",
    "    content = csv.reader(file)\n",
    "    print(content)"
   ]
  },
  {
   "cell_type": "code",
   "execution_count": 32,
   "id": "90b430ea-8bcf-4648-915c-5d2db1149eb5",
   "metadata": {},
   "outputs": [],
   "source": [
    "#methond2 with modele CSV\n",
    "import csv\n",
    "with open ('./data.csv') as file:  #by default mode is r\n",
    "    content_onj = csv.reader(file)\n",
    "    content  = []\n",
    "    for line in content_onj:\n",
    "        content.append(line)"
   ]
  },
  {
   "cell_type": "code",
   "execution_count": 33,
   "id": "044a102a-442e-4542-bb21-cbb076daece8",
   "metadata": {},
   "outputs": [
    {
     "data": {
      "text/plain": [
       "[]"
      ]
     },
     "execution_count": 33,
     "metadata": {},
     "output_type": "execute_result"
    }
   ],
   "source": [
    "content"
   ]
  },
  {
   "cell_type": "markdown",
   "id": "2381a47c-f278-4663-99a6-da0fadeb0c3e",
   "metadata": {},
   "source": [
    "### CSV writing"
   ]
  },
  {
   "cell_type": "code",
   "execution_count": 36,
   "id": "1f131f89-31fb-4f5a-ac31-abc49046b292",
   "metadata": {},
   "outputs": [
    {
     "name": "stdout",
     "output_type": "stream",
     "text": [
      "<_csv.writer object at 0x0000014813F98AC0>\n"
     ]
    }
   ],
   "source": [
    "import csv\n",
    "row = ['2007', 'saylani competition', 'Huzaifa']\n",
    "with open ('./data.csv', 'w') as file:\n",
    "    write_obj = csv.writer(file)\n",
    "    write_obj.writerow(row)\n",
    "    print(write_obj)"
   ]
  },
  {
   "cell_type": "code",
   "execution_count": null,
   "id": "ee97b6fe-c93a-46f8-8f1e-d63ef1dcf26e",
   "metadata": {},
   "outputs": [],
   "source": [
    "import csv\n",
    "row1 = ['2008', 'google compitition', 'qasim']\n",
    "\n",
    "with open ('./data.csv', 'a') as file:\n",
    "    append_obj = csv.append(file)\n",
    "    append_ob"
   ]
  }
 ],
 "metadata": {
  "kernelspec": {
   "display_name": "Python 3 (ipykernel)",
   "language": "python",
   "name": "python3"
  },
  "language_info": {
   "codemirror_mode": {
    "name": "ipython",
    "version": 3
   },
   "file_extension": ".py",
   "mimetype": "text/x-python",
   "name": "python",
   "nbconvert_exporter": "python",
   "pygments_lexer": "ipython3",
   "version": "3.11.10"
  }
 },
 "nbformat": 4,
 "nbformat_minor": 5
}
