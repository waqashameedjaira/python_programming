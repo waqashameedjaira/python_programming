{
 "cells": [
  {
   "cell_type": "markdown",
   "id": "204e1dd0-d709-4cff-bb24-7c4655bc15af",
   "metadata": {},
   "source": [
    "# Tuples"
   ]
  },
  {
   "cell_type": "code",
   "execution_count": 6,
   "id": "89d90fbb-377b-41b8-b7de-0ca7f9e9a882",
   "metadata": {},
   "outputs": [],
   "source": [
    "# Start with ()\n",
    "# Immutable, can't change\n",
    "# Ordered elements\n",
    "# when slicing tuples or list elements i.e [1:4) (1 is inculded and 4 is exculded)"
   ]
  },
  {
   "cell_type": "code",
   "execution_count": 7,
   "id": "8dbda39c-d55a-4ab5-b1d5-849521300262",
   "metadata": {},
   "outputs": [
    {
     "data": {
      "text/plain": [
       "(1, 2, 3, 4)"
      ]
     },
     "execution_count": 7,
     "metadata": {},
     "output_type": "execute_result"
    }
   ],
   "source": [
    "first_tuple = (1,2,3,4)\n",
    "first_tuple"
   ]
  },
  {
   "cell_type": "code",
   "execution_count": 8,
   "id": "77bee9f6-49e2-45a3-b007-b5448e52ee90",
   "metadata": {},
   "outputs": [],
   "source": [
    "multiple_type = (1, \"tuple\", 0.32)"
   ]
  },
  {
   "cell_type": "code",
   "execution_count": 9,
   "id": "c6cd371b-0d57-4ead-a825-d75765bf9a28",
   "metadata": {},
   "outputs": [
    {
     "name": "stdout",
     "output_type": "stream",
     "text": [
      "<class 'tuple'>\n"
     ]
    }
   ],
   "source": [
    "print(type(multiple_type))"
   ]
  },
  {
   "cell_type": "code",
   "execution_count": 7,
   "id": "e7899ee2-bd2d-4196-ad87-502637047ed5",
   "metadata": {},
   "outputs": [
    {
     "name": "stdout",
     "output_type": "stream",
     "text": [
      "<class 'int'>\n"
     ]
    }
   ],
   "source": [
    "single_tuple = (1)\n",
    "print(type(single_tuple))"
   ]
  },
  {
   "cell_type": "code",
   "execution_count": 8,
   "id": "44807aee-c0b8-4dca-b401-1208f243585c",
   "metadata": {},
   "outputs": [
    {
     "name": "stdout",
     "output_type": "stream",
     "text": [
      "<class 'tuple'>\n"
     ]
    }
   ],
   "source": [
    "single_tuple = (1,)\n",
    "print(type(single_tuple))"
   ]
  },
  {
   "cell_type": "code",
   "execution_count": 5,
   "id": "1919bb03-e750-466e-b33b-59e6bcca9417",
   "metadata": {},
   "outputs": [],
   "source": [
    "#              -5        -4      -3        -2       -1\n",
    "new_tuple = (\"Qasim\", \"Ayan\", \"Faisal\", \"Uzair\", \"Hamza\")"
   ]
  },
  {
   "cell_type": "code",
   "execution_count": 13,
   "id": "6755f98d-2d38-4556-b211-37d4ac7484c5",
   "metadata": {},
   "outputs": [
    {
     "data": {
      "text/plain": [
       "'Hamza'"
      ]
     },
     "execution_count": 13,
     "metadata": {},
     "output_type": "execute_result"
    }
   ],
   "source": [
    "new_tuple[4]"
   ]
  },
  {
   "cell_type": "code",
   "execution_count": 16,
   "id": "ae244627-a966-46ef-b903-05a001d1b632",
   "metadata": {},
   "outputs": [
    {
     "data": {
      "text/plain": [
       "('Hamza', 'Uzair', 'Faisal')"
      ]
     },
     "execution_count": 16,
     "metadata": {},
     "output_type": "execute_result"
    }
   ],
   "source": [
    "new_tuple[-1:-4:-1]"
   ]
  },
  {
   "cell_type": "code",
   "execution_count": 14,
   "id": "7e8f12fc-1a7e-4173-a2b8-cf75a17a0de5",
   "metadata": {},
   "outputs": [
    {
     "data": {
      "text/plain": [
       "('Qasim', 'Ayan', 'Faisal')"
      ]
     },
     "execution_count": 14,
     "metadata": {},
     "output_type": "execute_result"
    }
   ],
   "source": [
    "new_tuple[:3]"
   ]
  },
  {
   "cell_type": "markdown",
   "id": "10bdc682-517e-488c-a69c-abb41660e2e5",
   "metadata": {},
   "source": [
    "Functionalities"
   ]
  },
  {
   "cell_type": "code",
   "execution_count": 16,
   "id": "2376b4fd-194a-42cf-a013-b22fb484daef",
   "metadata": {},
   "outputs": [
    {
     "name": "stdout",
     "output_type": "stream",
     "text": [
      "104\n",
      "88\n"
     ]
    }
   ],
   "source": [
    "# tuple is more faster thant list\n",
    "# in the mean of loading\n",
    "# import sys is defualt command of python\n",
    "\n",
    "import sys\n",
    "\n",
    "lists = [\"Qasim\", \"Ayan\", \"Faisal\", \"Uzair\", \"hamza\"]\n",
    "tuppl = (\"Qasim\", \"Ayan\", \"Faisal\", \"Uzair\", \"hamza\", \"hamza\")\n",
    "\n",
    "print(sys.getsizeof(lists))\n",
    "print(sys.getsizeof(tuppl))"
   ]
  },
  {
   "cell_type": "markdown",
   "id": "e5c2386b-7460-441b-a6b7-ba927844dd2e",
   "metadata": {},
   "source": [
    "tuple is more faster and efficient"
   ]
  },
  {
   "cell_type": "code",
   "execution_count": 18,
   "id": "2d0db213-cb42-43f5-961d-3aa258871415",
   "metadata": {},
   "outputs": [
    {
     "data": {
      "text/plain": [
       "2"
      ]
     },
     "execution_count": 18,
     "metadata": {},
     "output_type": "execute_result"
    }
   ],
   "source": [
    "tuppl.count(\"hamza\")  # how much time the same element is add in tuple"
   ]
  },
  {
   "cell_type": "code",
   "execution_count": 26,
   "id": "83a43b6d-62de-43f5-9c8a-fc8c61b118c6",
   "metadata": {},
   "outputs": [
    {
     "data": {
      "text/plain": [
       "2"
      ]
     },
     "execution_count": 26,
     "metadata": {},
     "output_type": "execute_result"
    }
   ],
   "source": [
    "tuppl.index(\"Faisal\")"
   ]
  },
  {
   "cell_type": "markdown",
   "id": "c9adb671-14a0-4e62-aa66-351e31404072",
   "metadata": {},
   "source": [
    "Nested tuple"
   ]
  },
  {
   "cell_type": "code",
   "execution_count": 20,
   "id": "4e74bae0-4563-4442-9450-e018ef0b3bf6",
   "metadata": {},
   "outputs": [],
   "source": [
    "nested_tupple = (1,2,3,(5,6,7,8),4,9)"
   ]
  },
  {
   "cell_type": "code",
   "execution_count": 23,
   "id": "5ecf331d-672d-425d-9af9-67802432a7b1",
   "metadata": {},
   "outputs": [
    {
     "data": {
      "text/plain": [
       "(5, 6, 7, 8)"
      ]
     },
     "execution_count": 23,
     "metadata": {},
     "output_type": "execute_result"
    }
   ],
   "source": [
    "nested_tupple[3]"
   ]
  },
  {
   "cell_type": "code",
   "execution_count": 24,
   "id": "581a0dc6-19dd-4065-a1c6-a7b7c9ad6f6c",
   "metadata": {},
   "outputs": [
    {
     "data": {
      "text/plain": [
       "5"
      ]
     },
     "execution_count": 24,
     "metadata": {},
     "output_type": "execute_result"
    }
   ],
   "source": [
    "nested_tupple[3][0]"
   ]
  },
  {
   "cell_type": "markdown",
   "id": "9fe06782-1ec5-4d8f-ba9d-755a11c085e3",
   "metadata": {},
   "source": [
    "Sets"
   ]
  },
  {
   "cell_type": "code",
   "execution_count": 26,
   "id": "9e278129-4b6f-48b3-9dab-6bc94c7cb1c1",
   "metadata": {},
   "outputs": [
    {
     "name": "stdout",
     "output_type": "stream",
     "text": [
      "{1, 2, 34, 5}\n"
     ]
    }
   ],
   "source": [
    "#unordered\n",
    "#Unique values\n",
    "# remover duplicates\n",
    "# print in acending order\n",
    "# we can't use indexing\n",
    "\n",
    "first_set = {1,2,34,5,1}\n",
    "print(first_set)"
   ]
  },
  {
   "cell_type": "code",
   "execution_count": 28,
   "id": "78d4dfd7-86cb-4176-9447-6ab4b10a41d5",
   "metadata": {},
   "outputs": [
    {
     "ename": "TypeError",
     "evalue": "'set' object is not subscriptable",
     "output_type": "error",
     "traceback": [
      "\u001b[1;31m---------------------------------------------------------------------------\u001b[0m",
      "\u001b[1;31mTypeError\u001b[0m                                 Traceback (most recent call last)",
      "Cell \u001b[1;32mIn[28], line 1\u001b[0m\n\u001b[1;32m----> 1\u001b[0m first_set[\u001b[38;5;241m1\u001b[39m]\n",
      "\u001b[1;31mTypeError\u001b[0m: 'set' object is not subscriptable"
     ]
    }
   ],
   "source": [
    "first_set[1]"
   ]
  },
  {
   "cell_type": "markdown",
   "id": "91a8c404-4a0f-4711-825b-5581c0f87910",
   "metadata": {},
   "source": [
    "### Loops"
   ]
  },
  {
   "cell_type": "code",
   "execution_count": 33,
   "id": "6c6446ca-1ad9-4eb4-a0a3-09592411d84a",
   "metadata": {},
   "outputs": [],
   "source": [
    "# For loops"
   ]
  },
  {
   "cell_type": "markdown",
   "id": "7b9881cd-206c-4bd1-9fc9-ba9f580d0a51",
   "metadata": {},
   "source": [
    "# Syntax\n",
    "\n",
    "for variable in iterator:\n",
    "    code block"
   ]
  },
  {
   "cell_type": "code",
   "execution_count": 35,
   "id": "0b3b62fe-5834-43cb-9f65-4662b0bb72a7",
   "metadata": {},
   "outputs": [
    {
     "name": "stdout",
     "output_type": "stream",
     "text": [
      "Qasim\n",
      "Ayan\n"
     ]
    }
   ],
   "source": [
    "listt = [\"Qasim\", \"Ayan\"]\n",
    "\n",
    "for value in listt:\n",
    "    print(value)"
   ]
  },
  {
   "cell_type": "code",
   "execution_count": 38,
   "id": "80a11217-d3be-4549-b254-be0224f1f819",
   "metadata": {},
   "outputs": [
    {
     "name": "stdout",
     "output_type": "stream",
     "text": [
      "Qasim\n"
     ]
    }
   ],
   "source": [
    "listt = [\"Qasim\", \"Ayan\", \"Waqas\"]\n",
    "\n",
    "for value in listt:\n",
    "    print(value)\n",
    "    break"
   ]
  },
  {
   "cell_type": "code",
   "execution_count": 40,
   "id": "60fccb92-31cd-454a-b7c5-9c1750832707",
   "metadata": {},
   "outputs": [
    {
     "name": "stdout",
     "output_type": "stream",
     "text": [
      "3\n"
     ]
    }
   ],
   "source": [
    "print(len(listt))"
   ]
  },
  {
   "cell_type": "code",
   "execution_count": 33,
   "id": "7f97f0e4-3f89-40a6-92bb-eac9c4845447",
   "metadata": {},
   "outputs": [
    {
     "name": "stdout",
     "output_type": "stream",
     "text": [
      "5\n"
     ]
    }
   ],
   "source": [
    "abc = \"Waqas\"\n",
    "print(len(abc))"
   ]
  },
  {
   "cell_type": "code",
   "execution_count": 37,
   "id": "23058e5f-c04a-4f82-bf16-76d77e29dcec",
   "metadata": {},
   "outputs": [
    {
     "name": "stdout",
     "output_type": "stream",
     "text": [
      "0\n",
      "1\n",
      "2\n",
      "3\n",
      "4\n",
      "5\n",
      "6\n",
      "7\n",
      "8\n",
      "9\n"
     ]
    }
   ],
   "source": [
    "#range fuction\n",
    "for i in range(10):\n",
    "    print(i)"
   ]
  },
  {
   "cell_type": "code",
   "execution_count": 41,
   "id": "e79b4ca9-de30-46f0-9bb7-db2142bf95de",
   "metadata": {},
   "outputs": [
    {
     "name": "stdout",
     "output_type": "stream",
     "text": [
      "0 Qasim\n",
      "1 Ayan\n",
      "2 Waqas\n"
     ]
    }
   ],
   "source": [
    "for i in range(len(listt)):\n",
    "    print(i, listt[i])"
   ]
  },
  {
   "cell_type": "code",
   "execution_count": 43,
   "id": "02ae9a22-9277-4770-8828-b5a8eae5462e",
   "metadata": {},
   "outputs": [
    {
     "name": "stdout",
     "output_type": "stream",
     "text": [
      "0 Qasim ok\n",
      "1 Ayan ok\n",
      "2 Waqas ok\n"
     ]
    }
   ],
   "source": [
    "import time\n",
    "for i in range(len(listt)):\n",
    "    print(i, listt[i], \"ok\")\n",
    "    time.sleep(5)\n",
    "    # print(\"sleeping\")"
   ]
  },
  {
   "cell_type": "code",
   "execution_count": 43,
   "id": "8d0af245-0cbb-481b-a7dd-b871646f4b90",
   "metadata": {},
   "outputs": [
    {
     "name": "stdout",
     "output_type": "stream",
     "text": [
      "S\n",
      "M\n",
      "I\n",
      "T\n",
      "D\n",
      "E\n",
      "C\n",
      "L\n",
      "A\n",
      "S\n",
      "S\n"
     ]
    }
   ],
   "source": [
    "var = \"SMITDECLASS\"\n",
    "for i in var:\n",
    "    print(i)"
   ]
  },
  {
   "cell_type": "code",
   "execution_count": 44,
   "id": "9b6bc5e7-9c44-42e9-83b9-02a9e832a0f1",
   "metadata": {},
   "outputs": [],
   "source": [
    "# take 5 input names, store them into a list and then print  one by one"
   ]
  },
  {
   "cell_type": "code",
   "execution_count": 49,
   "id": "a60e96e6-c95a-4bad-9b4a-5f24622ff709",
   "metadata": {},
   "outputs": [
    {
     "name": "stdin",
     "output_type": "stream",
     "text": [
      "enter name a\n"
     ]
    }
   ],
   "source": [
    "input_name = input(\"enter name\")\n",
    "input_name = input(\"enter name\")\n",
    "input_name = input(\"enter name\")\n",
    "input_name = input(\"enter name\")\n",
    "input_name = input(\"enter name\")\n",
    "list_name = (input_name)"
   ]
  },
  {
   "cell_type": "code",
   "execution_count": 50,
   "id": "789d76f9-6a3e-4fbe-9e7e-7960b5773dc8",
   "metadata": {},
   "outputs": [
    {
     "name": "stdout",
     "output_type": "stream",
     "text": [
      "a\n"
     ]
    }
   ],
   "source": [
    "print(input_name)"
   ]
  },
  {
   "cell_type": "code",
   "execution_count": 48,
   "id": "aaeddf6b-f548-4e44-bab1-c4044f8b31d9",
   "metadata": {},
   "outputs": [
    {
     "name": "stdin",
     "output_type": "stream",
     "text": [
      "enter your name:  ik\n"
     ]
    },
    {
     "name": "stdout",
     "output_type": "stream",
     "text": [
      "['ik']\n"
     ]
    },
    {
     "name": "stdin",
     "output_type": "stream",
     "text": [
      "enter your name:  ok\n"
     ]
    },
    {
     "name": "stdout",
     "output_type": "stream",
     "text": [
      "['ik', 'ok']\n",
      "ik\n",
      "ok\n"
     ]
    }
   ],
   "source": [
    "names = []\n",
    "\n",
    "for i in range(2):\n",
    "    name = input(\"enter your name: \")\n",
    "    names.append(name)\n",
    "    print(names)\n",
    "\n",
    "for i in names:\n",
    "    print(i)"
   ]
  },
  {
   "cell_type": "code",
   "execution_count": 47,
   "id": "885ac535-faf7-4929-bc99-fb21c6399d18",
   "metadata": {},
   "outputs": [
    {
     "name": "stdin",
     "output_type": "stream",
     "text": [
      "enter fruit name mango\n",
      "enter fruit name apple\n",
      "enter fruit name banan\n"
     ]
    },
    {
     "name": "stdout",
     "output_type": "stream",
     "text": [
      "mango\n",
      "apple\n",
      "banan\n"
     ]
    }
   ],
   "source": [
    "fruits = []\n",
    "\n",
    "for i in range(3):\n",
    "    fruit = input(\"enter fruit name\")\n",
    "    fruits.append(fruit)\n",
    "    #print(fruits)\n",
    "\n",
    "for i in fruits:\n",
    "    print(i)"
   ]
  },
  {
   "cell_type": "code",
   "execution_count": 53,
   "id": "3c15c6b5-a061-4cc4-98e1-962fb418d670",
   "metadata": {},
   "outputs": [
    {
     "name": "stdout",
     "output_type": "stream",
     "text": [
      "2\n",
      "3\n",
      "4\n",
      "5\n",
      "6\n",
      "7\n",
      "8\n",
      "9\n"
     ]
    }
   ],
   "source": [
    "for i in range(2,10):\n",
    "    print(i)"
   ]
  },
  {
   "cell_type": "markdown",
   "id": "534feb56-afd9-408a-95d0-44a415787867",
   "metadata": {},
   "source": [
    "# Nested Loops"
   ]
  },
  {
   "cell_type": "code",
   "execution_count": 55,
   "id": "06928262-8249-4a78-a843-836566e0fb04",
   "metadata": {},
   "outputs": [
    {
     "name": "stdout",
     "output_type": "stream",
     "text": [
      "[1, 2, 4, 5, 6, 89, 8]\n",
      "[1, 4, 67, 9, 9, 8, 9]\n",
      "['Starc', 'Kohli', 'Root']\n"
     ]
    }
   ],
   "source": [
    "nested_lists = [[1,2,4,5,6,89,8],[1,4,67,9,9,8,9],[\"Starc\",\"Kohli\",\"Root\"]]\n",
    "\n",
    "# elements in first list 3\n",
    "for i in nested_lists:\n",
    "    print(i)"
   ]
  },
  {
   "cell_type": "code",
   "execution_count": 57,
   "id": "9896dbe9-6572-4e28-aed5-9e59b3d45513",
   "metadata": {},
   "outputs": [
    {
     "name": "stdout",
     "output_type": "stream",
     "text": [
      "[1, 2, 4, 5, 6, 89, 8]\n",
      "1\n",
      "2\n",
      "4\n",
      "5\n",
      "6\n",
      "89\n",
      "8\n",
      "[1, 4, 67, 9, 9, 8, 9]\n",
      "1\n",
      "4\n",
      "67\n",
      "9\n",
      "9\n",
      "8\n",
      "9\n",
      "['Starc', 'Kohli', 'Root']\n",
      "Starc\n",
      "Kohli\n",
      "Root\n"
     ]
    }
   ],
   "source": [
    "nested_lists = [[1,2,4,5,6,89,8],[1,4,67,9,9,8,9],[\"Starc\",\"Kohli\",\"Root\"]]\n",
    "\n",
    "# elements in first list 3\n",
    "for i in nested_lists:\n",
    "    # 1st iteration [1,2,4,5,6,89,8]\n",
    "    print(i)\n",
    "    for j in i:\n",
    "        print(j)"
   ]
  },
  {
   "cell_type": "code",
   "execution_count": 74,
   "id": "ea87f73e-87cf-4862-a0c6-51c81b455c09",
   "metadata": {},
   "outputs": [
    {
     "name": "stdout",
     "output_type": "stream",
     "text": [
      "*\n",
      "* *\n",
      "*\n",
      "* *\n",
      "*\n",
      "* *\n",
      "*\n",
      "* *\n",
      "*\n",
      "* *\n"
     ]
    }
   ],
   "source": [
    "star = [\"*\",\"*\",\"*\",\"*\",\"*\"]\n",
    "for i in star:\n",
    "    print(i)\n",
    "    for j in i:\n",
    "        print(i,j)"
   ]
  },
  {
   "cell_type": "code",
   "execution_count": 72,
   "id": "dc3dcf88-b47a-4f56-a372-82ee311cd0b4",
   "metadata": {},
   "outputs": [
    {
     "name": "stdout",
     "output_type": "stream",
     "text": [
      "*\n",
      "* *\n",
      "* * *\n",
      "* * * *\n",
      "* * * * *\n"
     ]
    }
   ],
   "source": [
    "stars = [\"*\"]\n",
    "for i in stars:\n",
    "    print(i)\n",
    "    for j in i:\n",
    "        print(i,j)\n",
    "        for k in j:\n",
    "            print(i,j,k)\n",
    "            for h in k:\n",
    "                print(i,j,k,h)\n",
    "                for m in h:\n",
    "                    print(i,j,k,h,m)"
   ]
  },
  {
   "cell_type": "code",
   "execution_count": 50,
   "id": "34a1f17d-3f5c-4203-b75c-e9d47e6fc735",
   "metadata": {},
   "outputs": [
    {
     "name": "stdout",
     "output_type": "stream",
     "text": [
      "* * * * * \n",
      "* * * * * \n",
      "* * * * * \n",
      "* * * * * \n",
      "* * * * * \n"
     ]
    }
   ],
   "source": [
    "for i in range(5):\n",
    "    for j in range(5):\n",
    "        print(\"*\", end=\" \")\n",
    "    print()"
   ]
  },
  {
   "cell_type": "markdown",
   "id": "51c3ac56-1535-424a-929b-3dcfc73487ca",
   "metadata": {},
   "source": [
    "## Conditional Statements"
   ]
  },
  {
   "cell_type": "code",
   "execution_count": 81,
   "id": "7893b278-96d6-46f2-9b6e-a9ceac30a915",
   "metadata": {},
   "outputs": [
    {
     "name": "stdout",
     "output_type": "stream",
     "text": [
      "0\n"
     ]
    }
   ],
   "source": [
    "# break\n",
    "#\n",
    "\n",
    "for i in range(5):\n",
    "    print(i)\n",
    "    break\n",
    "    print(\"hello\")"
   ]
  },
  {
   "cell_type": "code",
   "execution_count": 90,
   "id": "47c01d66-bbb6-48ab-b1f8-7f1ff53cdafb",
   "metadata": {},
   "outputs": [
    {
     "name": "stdout",
     "output_type": "stream",
     "text": [
      "0\n",
      "hello\n",
      "1\n",
      "hello\n",
      "2\n",
      "hello\n",
      "3\n"
     ]
    }
   ],
   "source": [
    "# break\n",
    "#\n",
    "\n",
    "for i in range(5):\n",
    "    print(i)\n",
    "    if i == 3:\n",
    "        break\n",
    "    print(\"hello\")"
   ]
  },
  {
   "cell_type": "code",
   "execution_count": 54,
   "id": "395ea5c5-242b-439b-8b6a-aba5e10a4848",
   "metadata": {},
   "outputs": [
    {
     "name": "stdout",
     "output_type": "stream",
     "text": [
      "0\n",
      "Hello\n",
      "1\n",
      "Hello\n",
      "2\n",
      "Hello\n",
      "3\n",
      "Hello\n",
      "4\n",
      "Hello\n",
      "5\n",
      "6\n",
      "Hello\n",
      "7\n",
      "Hello\n",
      "8\n",
      "Hello\n",
      "9\n",
      "Hello\n",
      "10\n",
      "Hello\n",
      "11\n",
      "Hello\n"
     ]
    }
   ],
   "source": [
    "# Continue\n",
    "\n",
    "for i in range(12):  # 0 to 11\n",
    "    print(i)\n",
    "    if i == 5:\n",
    "         continue  # before continue command will excetue but not after continue\n",
    "    print(\"Hello\")"
   ]
  },
  {
   "cell_type": "code",
   "execution_count": 91,
   "id": "52dfc260-7ed8-4377-ba6a-e0940205ed9f",
   "metadata": {},
   "outputs": [
    {
     "name": "stdout",
     "output_type": "stream",
     "text": [
      "waqas hameed\n"
     ]
    }
   ],
   "source": [
    "name = \"Waqas Hameed\"\n",
    "print(name.lower())"
   ]
  },
  {
   "cell_type": "code",
   "execution_count": 92,
   "id": "c20b32d2-7a74-4450-8c87-95b87c52ee18",
   "metadata": {},
   "outputs": [
    {
     "name": "stdout",
     "output_type": "stream",
     "text": [
      "WAQAS HAMEED\n"
     ]
    }
   ],
   "source": [
    "name = \"Waqas Hameed\"\n",
    "print(name.upper())"
   ]
  },
  {
   "cell_type": "code",
   "execution_count": 93,
   "id": "bf9b57b6-d1d6-47d5-bbf8-972c011869b7",
   "metadata": {},
   "outputs": [
    {
     "name": "stdout",
     "output_type": "stream",
     "text": [
      "Waqas Hameed\n"
     ]
    }
   ],
   "source": [
    "name = \"Waqas Hameed\"\n",
    "print(name.title())"
   ]
  },
  {
   "cell_type": "code",
   "execution_count": null,
   "id": "a672cc64-ba87-4ea0-9858-14d1bf323c75",
   "metadata": {},
   "outputs": [],
   "source": []
  }
 ],
 "metadata": {
  "kernelspec": {
   "display_name": "Python 3 (ipykernel)",
   "language": "python",
   "name": "python3"
  },
  "language_info": {
   "codemirror_mode": {
    "name": "ipython",
    "version": 3
   },
   "file_extension": ".py",
   "mimetype": "text/x-python",
   "name": "python",
   "nbconvert_exporter": "python",
   "pygments_lexer": "ipython3",
   "version": "3.11.10"
  }
 },
 "nbformat": 4,
 "nbformat_minor": 5
}
