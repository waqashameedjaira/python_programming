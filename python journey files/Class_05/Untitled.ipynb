{
 "cells": [
  {
   "cell_type": "markdown",
   "id": "162e2470-75d6-4587-b2e1-6e1d3e7ce1cd",
   "metadata": {},
   "source": [
    "# Dictionaries"
   ]
  },
  {
   "cell_type": "code",
   "execution_count": 1,
   "id": "6e71778e-f53d-4d5f-bc1c-a0f9e7fcdac6",
   "metadata": {},
   "outputs": [
    {
     "ename": "SyntaxError",
     "evalue": "invalid syntax (2278597446.py, line 1)",
     "output_type": "error",
     "traceback": [
      "\u001b[1;36m  Cell \u001b[1;32mIn[1], line 1\u001b[1;36m\u001b[0m\n\u001b[1;33m    customer_786 =\u001b[0m\n\u001b[1;37m                   ^\u001b[0m\n\u001b[1;31mSyntaxError\u001b[0m\u001b[1;31m:\u001b[0m invalid syntax\n"
     ]
    }
   ],
   "source": [
    "customer_786 = "
   ]
  },
  {
   "cell_type": "code",
   "execution_count": null,
   "id": "7f10c539-553f-406b-a9ec-5f4c6dc5a248",
   "metadata": {},
   "outputs": [],
   "source": []
  },
  {
   "cell_type": "code",
   "execution_count": null,
   "id": "c56bed5b-6c77-45eb-9dbb-342b14175522",
   "metadata": {},
   "outputs": [],
   "source": [
    "my_dictionary = {\"name\""
   ]
  },
  {
   "cell_type": "code",
   "execution_count": 2,
   "id": "d286f8a5-5e4b-487e-b3a3-fecf5a809a76",
   "metadata": {},
   "outputs": [],
   "source": [
    "##Creating a list of dictionaries"
   ]
  },
  {
   "cell_type": "code",
   "execution_count": 3,
   "id": "62870240-b121-42ad-b93a-04339fe410ff",
   "metadata": {},
   "outputs": [],
   "source": [
    "customers_list_of_dict = {\n",
    "    \"f_name\": [\"Qasim\",\"ayan\",\"Muhammad\"],\n",
    "    \"L_name\": [\"Hassan\",\"Hussain\",\"Uzair\"],\n",
    "    \"adress\": [\"Street786\",\"Street789\",\"Street780\"],\n",
    "    \"order_price\": [120,130,140],\n",
    "    \"order_item\":[\"Shoes\",\"Shirt\",\"Cap\"]}"
   ]
  },
  {
   "cell_type": "code",
   "execution_count": 10,
   "id": "0479159a-81fb-4d6b-ada9-39c1a7622182",
   "metadata": {},
   "outputs": [
    {
     "name": "stdout",
     "output_type": "stream",
     "text": [
      "0\n",
      "1\n",
      "2\n",
      "3\n",
      "4\n"
     ]
    }
   ],
   "source": [
    "for i in range(len(customers_list_of_dict)):\n",
    "    print(i)"
   ]
  },
  {
   "cell_type": "markdown",
   "id": "2d3529a6-4e8f-4d94-a62e-bccb03b3b816",
   "metadata": {},
   "source": [
    "### How to pick informaiton out of a list of dictionaries"
   ]
  },
  {
   "cell_type": "code",
   "execution_count": 11,
   "id": "9e1aef52-f7e3-4477-97af-4ad3ff250889",
   "metadata": {},
   "outputs": [
    {
     "data": {
      "text/plain": [
       "{'f_name': ['Qasim', 'ayan', 'Muhammad'],\n",
       " 'L_name': ['Hassan', 'Hussain', 'Uzair'],\n",
       " 'adress': ['Street786', 'Street789', 'Street780'],\n",
       " 'order_price': [120, 130, 140],\n",
       " 'order_item': ['Shoes', 'Shirt', 'Cap']}"
      ]
     },
     "execution_count": 11,
     "metadata": {},
     "output_type": "execute_result"
    }
   ],
   "source": [
    "customers_list_of_dict"
   ]
  },
  {
   "cell_type": "code",
   "execution_count": 12,
   "id": "1f2d0478-daa2-490a-9d0b-6b201fe06414",
   "metadata": {},
   "outputs": [
    {
     "data": {
      "text/plain": [
       "'Cap'"
      ]
     },
     "execution_count": 12,
     "metadata": {},
     "output_type": "execute_result"
    }
   ],
   "source": [
    "customers_list_of_dict['order_item'][2]"
   ]
  },
  {
   "cell_type": "markdown",
   "id": "312f57ea-849f-4978-8f18-6c36e13d3620",
   "metadata": {},
   "source": [
    "### list of dictionaries"
   ]
  },
  {
   "cell_type": "code",
   "execution_count": 14,
   "id": "e40e3911-ed40-4491-a9fa-96dce5e0e5e6",
   "metadata": {},
   "outputs": [
    {
     "data": {
      "text/plain": [
       "{'f_name': ['Qasim', 'ayan', 'Muhammad'],\n",
       " 'L_name': ['Hassan', 'Hussain', 'Uzair'],\n",
       " 'adress': ['Street786', 'Street789', 'Street780'],\n",
       " 'order_price': [120, 130, 140],\n",
       " 'order_item': ['Shoes', 'Shirt', 'Cap']}"
      ]
     },
     "execution_count": 14,
     "metadata": {},
     "output_type": "execute_result"
    }
   ],
   "source": [
    "customers_list_of_dict"
   ]
  },
  {
   "cell_type": "code",
   "execution_count": 23,
   "id": "4e14ede6-b0c8-4f3c-bd64-66271bf6e833",
   "metadata": {},
   "outputs": [
    {
     "ename": "SyntaxError",
     "evalue": "invalid syntax. Perhaps you forgot a comma? (2572292618.py, line 2)",
     "output_type": "error",
     "traceback": [
      "\u001b[1;36m  Cell \u001b[1;32mIn[23], line 2\u001b[1;36m\u001b[0m\n\u001b[1;33m    {\"f_name\": \"Qasim\",\u001b[0m\n\u001b[1;37m    ^\u001b[0m\n\u001b[1;31mSyntaxError\u001b[0m\u001b[1;31m:\u001b[0m invalid syntax. Perhaps you forgot a comma?\n"
     ]
    }
   ],
   "source": [
    "customer_opposit_case = [\n",
    "    {\"f_name\": \"Qasim\",\n",
    "     \"l_name\": \"Hassan\" ,\n",
    "    \"adress\": \"Street786\" ,\n",
    "    \"order_price\": \"120\" , \n",
    "    \"order_item\" :\"Shoes\" \n",
    " }\n",
    " {\"f_name\": \"ayan\",\n",
    " \"l_name\": \"Hussain\" ,\n",
    "\"adress\": \"Street789\" ,\n",
    "\"order_price\": \"130\" , \n",
    "    \"order_item\" :\"Shirt\" \n",
    " }\n",
    "{\"f_name\": \"\",\n",
    " \"l_name\": \"\" ,\n",
    "\"adress\": \"\" ,\n",
    "\"order_price\": \"\" , \n",
    "    \"order_item\" :\"\" \n",
    " }]"
   ]
  },
  {
   "cell_type": "code",
   "execution_count": null,
   "id": "0a06c289-0884-4749-9400-e0c22fe779c0",
   "metadata": {},
   "outputs": [],
   "source": []
  }
 ],
 "metadata": {
  "kernelspec": {
   "display_name": "Python 3 (ipykernel)",
   "language": "python",
   "name": "python3"
  },
  "language_info": {
   "codemirror_mode": {
    "name": "ipython",
    "version": 3
   },
   "file_extension": ".py",
   "mimetype": "text/x-python",
   "name": "python",
   "nbconvert_exporter": "python",
   "pygments_lexer": "ipython3",
   "version": "3.11.10"
  }
 },
 "nbformat": 4,
 "nbformat_minor": 5
}
