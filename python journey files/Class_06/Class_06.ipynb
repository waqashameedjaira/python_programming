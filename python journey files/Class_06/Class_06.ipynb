{
 "cells": [
  {
   "cell_type": "code",
   "execution_count": 1,
   "id": "09d43409-2d7b-4e58-9f93-b54be352448e",
   "metadata": {},
   "outputs": [
    {
     "name": "stdout",
     "output_type": "stream",
     "text": [
      "Waqas\n"
     ]
    }
   ],
   "source": [
    "dict = {\"Name\" : \"Waqas\",\n",
    "        \"F/Name\" : \"Hameed\",\n",
    "        \"age\" : 31,\n",
    "        \"weight\" : 70\n",
    "       }\n",
    "\n",
    "print(dict[\"Name\"])"
   ]
  },
  {
   "cell_type": "code",
   "execution_count": 2,
   "id": "675d7972-9642-40f0-82dd-7d26bc2f5d55",
   "metadata": {},
   "outputs": [],
   "source": [
    "car = {\"make\" : \"Toyota\",\n",
    "       \"model\" : 2024,\n",
    "       \"color\" : [\"Black\", \"White\", \"Golden\"]\n",
    "      }"
   ]
  },
  {
   "cell_type": "code",
   "execution_count": 3,
   "id": "ceb57dac-bdae-407c-a769-b804422c1926",
   "metadata": {},
   "outputs": [
    {
     "data": {
      "text/plain": [
       "['Black', 'White', 'Golden']"
      ]
     },
     "execution_count": 3,
     "metadata": {},
     "output_type": "execute_result"
    }
   ],
   "source": [
    "car.get(\"color\")"
   ]
  },
  {
   "cell_type": "code",
   "execution_count": 6,
   "id": "3c4fd25b-ab4d-43c7-9fbe-bddb73af241c",
   "metadata": {},
   "outputs": [],
   "source": [
    "x = car.keys()\n",
    "car[\"make\"] = \"Suzuki\""
   ]
  },
  {
   "cell_type": "code",
   "execution_count": 7,
   "id": "4eaf4043-d7f4-4579-936f-67222fe00c5b",
   "metadata": {},
   "outputs": [
    {
     "name": "stdout",
     "output_type": "stream",
     "text": [
      "dict_keys(['make', 'model', 'color'])\n"
     ]
    }
   ],
   "source": [
    "print(x)"
   ]
  },
  {
   "cell_type": "raw",
   "id": "731a9a13-cd3d-4337-b4b8-1ade576a8574",
   "metadata": {},
   "source": [
    "print(car)"
   ]
  },
  {
   "cell_type": "code",
   "execution_count": 8,
   "id": "42a2991e-058f-4ae6-a5c6-e9609e7cc8ba",
   "metadata": {},
   "outputs": [
    {
     "name": "stdout",
     "output_type": "stream",
     "text": [
      "{'make': 'Suzuki', 'model': 2024, 'color': ['Black', 'White', 'Golden']}\n"
     ]
    }
   ],
   "source": [
    "print(car)"
   ]
  },
  {
   "cell_type": "code",
   "execution_count": null,
   "id": "00c5a4b9-efbc-447a-b29e-114e35c86eb1",
   "metadata": {},
   "outputs": [],
   "source": []
  },
  {
   "cell_type": "code",
   "execution_count": null,
   "id": "a3183686-7385-4a27-820b-6b16d195812b",
   "metadata": {},
   "outputs": [],
   "source": []
  }
 ],
 "metadata": {
  "kernelspec": {
   "display_name": "Python 3 (ipykernel)",
   "language": "python",
   "name": "python3"
  },
  "language_info": {
   "codemirror_mode": {
    "name": "ipython",
    "version": 3
   },
   "file_extension": ".py",
   "mimetype": "text/x-python",
   "name": "python",
   "nbconvert_exporter": "python",
   "pygments_lexer": "ipython3",
   "version": "3.11.10"
  }
 },
 "nbformat": 4,
 "nbformat_minor": 5
}
