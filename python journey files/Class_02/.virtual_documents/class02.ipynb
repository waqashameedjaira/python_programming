print("Hello, Saylani Students")


name = "Waqas"
age = 20
weight = 20.5
is_present = True


type(name), type(age)








age


age = age + 2


print(age)


age +=2


print(age)


age = 5


age


print(age)


age


5-2


(2*2)/(4/2)



