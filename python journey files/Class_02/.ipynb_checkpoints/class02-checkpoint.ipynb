{
 "cells": [
  {
   "cell_type": "code",
   "execution_count": 2,
   "id": "5447da00-ed6c-4cce-a499-f1a5c81311ea",
   "metadata": {},
   "outputs": [
    {
     "name": "stdout",
     "output_type": "stream",
     "text": [
      "Hello, Saylani Students\n"
     ]
    }
   ],
   "source": [
    "print(\"Hello, Saylani Students\")"
   ]
  },
  {
   "cell_type": "code",
   "execution_count": 4,
   "id": "f95ede4b-a7b9-4593-82a3-7d1d9206837b",
   "metadata": {},
   "outputs": [],
   "source": [
    "name = \"Waqas\"\n",
    "age = 20\n",
    "weight = 20.5\n",
    "is_present = True"
   ]
  },
  {
   "cell_type": "code",
   "execution_count": 6,
   "id": "ed747855-6f65-4903-b9ce-1732860ab346",
   "metadata": {},
   "outputs": [
    {
     "data": {
      "text/plain": [
       "(str, int)"
      ]
     },
     "execution_count": 6,
     "metadata": {},
     "output_type": "execute_result"
    }
   ],
   "source": [
    "type(name), type(age)"
   ]
  },
  {
   "cell_type": "markdown",
   "id": "689f1651-f7ab-44c7-bcf7-64815fd8325e",
   "metadata": {},
   "source": [
    "(3-8)*(2-2)/2"
   ]
  },
  {
   "cell_type": "markdown",
   "id": "1fba5691-e85c-45eb-8734-d26cbb11c154",
   "metadata": {},
   "source": [
    "5**2"
   ]
  },
  {
   "cell_type": "code",
   "execution_count": 7,
   "id": "17291f2d-8e61-4778-82af-8dc2a2161b10",
   "metadata": {},
   "outputs": [
    {
     "data": {
      "text/plain": [
       "20"
      ]
     },
     "execution_count": 7,
     "metadata": {},
     "output_type": "execute_result"
    }
   ],
   "source": [
    "age"
   ]
  },
  {
   "cell_type": "code",
   "execution_count": 8,
   "id": "b61c79cd-fcb9-44c5-8f43-73f563149535",
   "metadata": {},
   "outputs": [],
   "source": [
    "age = age + 2"
   ]
  },
  {
   "cell_type": "code",
   "execution_count": 9,
   "id": "33a8f2e5-387a-4e40-bde0-66dfa4eae5d8",
   "metadata": {},
   "outputs": [
    {
     "name": "stdout",
     "output_type": "stream",
     "text": [
      "22\n"
     ]
    }
   ],
   "source": [
    "print(age)"
   ]
  },
  {
   "cell_type": "code",
   "execution_count": 10,
   "id": "9e6bdcba-b24c-4b34-b64d-d3b98be240b5",
   "metadata": {},
   "outputs": [],
   "source": [
    "age +=2"
   ]
  },
  {
   "cell_type": "code",
   "execution_count": 11,
   "id": "0ac0a0e2-7468-4a40-a92f-f90dfc376be0",
   "metadata": {},
   "outputs": [
    {
     "name": "stdout",
     "output_type": "stream",
     "text": [
      "24\n"
     ]
    }
   ],
   "source": [
    "print(age)"
   ]
  },
  {
   "cell_type": "code",
   "execution_count": 15,
   "id": "2e2f59c4-9b98-4e7a-82d1-ab4de3ad8a3f",
   "metadata": {},
   "outputs": [],
   "source": [
    "age = 5"
   ]
  },
  {
   "cell_type": "code",
   "execution_count": 16,
   "id": "65558ca2-7510-44e1-a988-613fda8cd06c",
   "metadata": {},
   "outputs": [
    {
     "data": {
      "text/plain": [
       "10"
      ]
     },
     "execution_count": 16,
     "metadata": {},
     "output_type": "execute_result"
    }
   ],
   "source": [
    "age"
   ]
  },
  {
   "cell_type": "code",
   "execution_count": 17,
   "id": "526edf9c-315c-424f-a27e-725e61d33790",
   "metadata": {},
   "outputs": [
    {
     "name": "stdout",
     "output_type": "stream",
     "text": [
      "10\n"
     ]
    }
   ],
   "source": [
    "print(age)"
   ]
  },
  {
   "cell_type": "code",
   "execution_count": 18,
   "id": "a6d80f5f-23ce-46ed-85f9-fcc0d1d8d40b",
   "metadata": {},
   "outputs": [
    {
     "data": {
      "text/plain": [
       "10"
      ]
     },
     "execution_count": 18,
     "metadata": {},
     "output_type": "execute_result"
    }
   ],
   "source": [
    "age"
   ]
  },
  {
   "cell_type": "code",
   "execution_count": 19,
   "id": "fc53d238-7c8e-4c1d-8f4c-d0469b43e50a",
   "metadata": {},
   "outputs": [
    {
     "data": {
      "text/plain": [
       "3"
      ]
     },
     "execution_count": 19,
     "metadata": {},
     "output_type": "execute_result"
    }
   ],
   "source": [
    "5-2"
   ]
  },
  {
   "cell_type": "code",
   "execution_count": null,
   "id": "d6e5eba0-76aa-445c-9cfe-7fc1f84b3ca6",
   "metadata": {},
   "outputs": [],
   "source": []
  }
 ],
 "metadata": {
  "kernelspec": {
   "display_name": "Python 3 (ipykernel)",
   "language": "python",
   "name": "python3"
  },
  "language_info": {
   "codemirror_mode": {
    "name": "ipython",
    "version": 3
   },
   "file_extension": ".py",
   "mimetype": "text/x-python",
   "name": "python",
   "nbconvert_exporter": "python",
   "pygments_lexer": "ipython3",
   "version": "3.11.10"
  }
 },
 "nbformat": 4,
 "nbformat_minor": 5
}
