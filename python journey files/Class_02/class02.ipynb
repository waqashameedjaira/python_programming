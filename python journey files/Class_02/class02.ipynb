{
 "cells": [
  {
   "cell_type": "code",
   "execution_count": 2,
   "id": "5447da00-ed6c-4cce-a499-f1a5c81311ea",
   "metadata": {},
   "outputs": [
    {
     "name": "stdout",
     "output_type": "stream",
     "text": [
      "Hello, Saylani Students\n"
     ]
    }
   ],
   "source": [
    "print(\"Hello, Saylani Students\")"
   ]
  },
  {
   "cell_type": "code",
   "execution_count": 3,
   "id": "f95ede4b-a7b9-4593-82a3-7d1d9206837b",
   "metadata": {},
   "outputs": [],
   "source": [
    "name = \"Waqas\"\n",
    "age = 20\n",
    "weight = 20.5\n",
    "is_present = True"
   ]
  },
  {
   "cell_type": "code",
   "execution_count": 4,
   "id": "ed747855-6f65-4903-b9ce-1732860ab346",
   "metadata": {},
   "outputs": [
    {
     "data": {
      "text/plain": [
       "(str, int)"
      ]
     },
     "execution_count": 4,
     "metadata": {},
     "output_type": "execute_result"
    }
   ],
   "source": [
    "type(name), type(age)"
   ]
  },
  {
   "cell_type": "markdown",
   "id": "689f1651-f7ab-44c7-bcf7-64815fd8325e",
   "metadata": {},
   "source": [
    "(3-8)*(2-2)/2"
   ]
  },
  {
   "cell_type": "markdown",
   "id": "1fba5691-e85c-45eb-8734-d26cbb11c154",
   "metadata": {},
   "source": [
    "5**2"
   ]
  },
  {
   "cell_type": "code",
   "execution_count": 7,
   "id": "17291f2d-8e61-4778-82af-8dc2a2161b10",
   "metadata": {},
   "outputs": [
    {
     "data": {
      "text/plain": [
       "20"
      ]
     },
     "execution_count": 7,
     "metadata": {},
     "output_type": "execute_result"
    }
   ],
   "source": [
    "age"
   ]
  },
  {
   "cell_type": "code",
   "execution_count": 8,
   "id": "b61c79cd-fcb9-44c5-8f43-73f563149535",
   "metadata": {},
   "outputs": [],
   "source": [
    "age = age + 2"
   ]
  },
  {
   "cell_type": "code",
   "execution_count": 9,
   "id": "33a8f2e5-387a-4e40-bde0-66dfa4eae5d8",
   "metadata": {},
   "outputs": [
    {
     "name": "stdout",
     "output_type": "stream",
     "text": [
      "22\n"
     ]
    }
   ],
   "source": [
    "print(age)"
   ]
  },
  {
   "cell_type": "code",
   "execution_count": 10,
   "id": "9e6bdcba-b24c-4b34-b64d-d3b98be240b5",
   "metadata": {},
   "outputs": [],
   "source": [
    "age +=2"
   ]
  },
  {
   "cell_type": "code",
   "execution_count": 11,
   "id": "0ac0a0e2-7468-4a40-a92f-f90dfc376be0",
   "metadata": {},
   "outputs": [
    {
     "name": "stdout",
     "output_type": "stream",
     "text": [
      "24\n"
     ]
    }
   ],
   "source": [
    "print(age)"
   ]
  },
  {
   "cell_type": "code",
   "execution_count": 15,
   "id": "2e2f59c4-9b98-4e7a-82d1-ab4de3ad8a3f",
   "metadata": {},
   "outputs": [],
   "source": [
    "age = 5"
   ]
  },
  {
   "cell_type": "code",
   "execution_count": 16,
   "id": "65558ca2-7510-44e1-a988-613fda8cd06c",
   "metadata": {},
   "outputs": [
    {
     "data": {
      "text/plain": [
       "10"
      ]
     },
     "execution_count": 16,
     "metadata": {},
     "output_type": "execute_result"
    }
   ],
   "source": [
    "age"
   ]
  },
  {
   "cell_type": "code",
   "execution_count": 17,
   "id": "526edf9c-315c-424f-a27e-725e61d33790",
   "metadata": {},
   "outputs": [
    {
     "name": "stdout",
     "output_type": "stream",
     "text": [
      "10\n"
     ]
    }
   ],
   "source": [
    "print(age)"
   ]
  },
  {
   "cell_type": "code",
   "execution_count": 18,
   "id": "a6d80f5f-23ce-46ed-85f9-fcc0d1d8d40b",
   "metadata": {},
   "outputs": [
    {
     "data": {
      "text/plain": [
       "10"
      ]
     },
     "execution_count": 18,
     "metadata": {},
     "output_type": "execute_result"
    }
   ],
   "source": [
    "age"
   ]
  },
  {
   "cell_type": "code",
   "execution_count": 19,
   "id": "fc53d238-7c8e-4c1d-8f4c-d0469b43e50a",
   "metadata": {},
   "outputs": [
    {
     "data": {
      "text/plain": [
       "3"
      ]
     },
     "execution_count": 19,
     "metadata": {},
     "output_type": "execute_result"
    }
   ],
   "source": [
    "5-2"
   ]
  },
  {
   "cell_type": "code",
   "execution_count": 1,
   "id": "d6e5eba0-76aa-445c-9cfe-7fc1f84b3ca6",
   "metadata": {},
   "outputs": [
    {
     "data": {
      "text/plain": [
       "2.0"
      ]
     },
     "execution_count": 1,
     "metadata": {},
     "output_type": "execute_result"
    }
   ],
   "source": [
    "(2*2)/(4/2)"
   ]
  },
  {
   "cell_type": "code",
   "execution_count": 5,
   "id": "182ea0e4-30bc-4d6d-8f6d-204642ab8917",
   "metadata": {},
   "outputs": [
    {
     "data": {
      "text/plain": [
       "4"
      ]
     },
     "execution_count": 5,
     "metadata": {},
     "output_type": "execute_result"
    }
   ],
   "source": [
    "2+2"
   ]
  },
  {
   "cell_type": "code",
   "execution_count": 6,
   "id": "0b38cad0-3634-419d-ad57-3e9e5cef2b7a",
   "metadata": {},
   "outputs": [
    {
     "data": {
      "text/plain": [
       "0"
      ]
     },
     "execution_count": 6,
     "metadata": {},
     "output_type": "execute_result"
    }
   ],
   "source": [
    "2-2"
   ]
  },
  {
   "cell_type": "code",
   "execution_count": 7,
   "id": "0be048e7-ec9b-49a6-9d78-1959789abc13",
   "metadata": {},
   "outputs": [
    {
     "data": {
      "text/plain": [
       "1.5"
      ]
     },
     "execution_count": 7,
     "metadata": {},
     "output_type": "execute_result"
    }
   ],
   "source": [
    "3/2"
   ]
  },
  {
   "cell_type": "code",
   "execution_count": 8,
   "id": "59bf50e1-8f3f-4def-b711-9b934cc002b2",
   "metadata": {},
   "outputs": [
    {
     "data": {
      "text/plain": [
       "2.0"
      ]
     },
     "execution_count": 8,
     "metadata": {},
     "output_type": "execute_result"
    }
   ],
   "source": [
    "4/2"
   ]
  },
  {
   "cell_type": "code",
   "execution_count": 9,
   "id": "559da861-3df2-4e27-9d59-b68e5c71a009",
   "metadata": {},
   "outputs": [
    {
     "data": {
      "text/plain": [
       "2"
      ]
     },
     "execution_count": 9,
     "metadata": {},
     "output_type": "execute_result"
    }
   ],
   "source": [
    "4//2"
   ]
  },
  {
   "cell_type": "code",
   "execution_count": 10,
   "id": "75f52e99-81ce-45cf-97c5-2ad0eb316365",
   "metadata": {},
   "outputs": [
    {
     "data": {
      "text/plain": [
       "36"
      ]
     },
     "execution_count": 10,
     "metadata": {},
     "output_type": "execute_result"
    }
   ],
   "source": [
    "3*12"
   ]
  },
  {
   "cell_type": "code",
   "execution_count": 12,
   "id": "427a3d2b-29d3-4e15-b2e8-a7509784012d",
   "metadata": {},
   "outputs": [],
   "source": [
    "a = 2\n",
    "b = 4"
   ]
  },
  {
   "cell_type": "code",
   "execution_count": 13,
   "id": "43bea710-0bd6-4c00-9031-e25b8a3297a6",
   "metadata": {},
   "outputs": [],
   "source": [
    "c = a + b"
   ]
  },
  {
   "cell_type": "code",
   "execution_count": 14,
   "id": "82f353c7-3825-43e3-a3fb-c7484ea3194a",
   "metadata": {},
   "outputs": [
    {
     "data": {
      "text/plain": [
       "6"
      ]
     },
     "execution_count": 14,
     "metadata": {},
     "output_type": "execute_result"
    }
   ],
   "source": [
    "c"
   ]
  },
  {
   "cell_type": "code",
   "execution_count": 15,
   "id": "555e0c0c-ca61-4e96-8ff2-088eaf8d21df",
   "metadata": {},
   "outputs": [
    {
     "data": {
      "text/plain": [
       "3.5"
      ]
     },
     "execution_count": 15,
     "metadata": {},
     "output_type": "execute_result"
    }
   ],
   "source": [
    "7/2"
   ]
  },
  {
   "cell_type": "code",
   "execution_count": 16,
   "id": "a9728c22-a9dc-4d99-9d32-31d58009c4cf",
   "metadata": {},
   "outputs": [
    {
     "data": {
      "text/plain": [
       "1"
      ]
     },
     "execution_count": 16,
     "metadata": {},
     "output_type": "execute_result"
    }
   ],
   "source": [
    "7%2"
   ]
  },
  {
   "cell_type": "code",
   "execution_count": 17,
   "id": "3f68db93-eed9-4d0b-b226-b0fd82a0cba6",
   "metadata": {},
   "outputs": [
    {
     "data": {
      "text/plain": [
       "20"
      ]
     },
     "execution_count": 17,
     "metadata": {},
     "output_type": "execute_result"
    }
   ],
   "source": [
    "age"
   ]
  },
  {
   "cell_type": "code",
   "execution_count": 18,
   "id": "b90fbf02-d55c-4ca3-9689-9979a12e24e7",
   "metadata": {},
   "outputs": [],
   "source": [
    "age += 2"
   ]
  },
  {
   "cell_type": "code",
   "execution_count": 19,
   "id": "ae742a59-7bc8-45d1-93ec-7dc69a8a0f9a",
   "metadata": {},
   "outputs": [
    {
     "data": {
      "text/plain": [
       "22"
      ]
     },
     "execution_count": 19,
     "metadata": {},
     "output_type": "execute_result"
    }
   ],
   "source": [
    "age"
   ]
  },
  {
   "cell_type": "code",
   "execution_count": 20,
   "id": "b461f40e-7f7c-4c9d-9e63-65367b932ec4",
   "metadata": {},
   "outputs": [],
   "source": [
    "age -= 3"
   ]
  },
  {
   "cell_type": "code",
   "execution_count": 21,
   "id": "bae9650d-715c-4b9c-bf2e-e44148848dfd",
   "metadata": {},
   "outputs": [
    {
     "data": {
      "text/plain": [
       "19"
      ]
     },
     "execution_count": 21,
     "metadata": {},
     "output_type": "execute_result"
    }
   ],
   "source": [
    "age"
   ]
  },
  {
   "cell_type": "code",
   "execution_count": 23,
   "id": "2367777c-78a6-4310-a5b2-4821e80bf963",
   "metadata": {},
   "outputs": [],
   "source": [
    "a = \"I\"\n",
    "b = \"am\"\n",
    "c = 14\n",
    "d = \"old\""
   ]
  },
  {
   "cell_type": "code",
   "execution_count": 24,
   "id": "fdc2fe4a-9e38-4de9-9663-2dbf67af0bb2",
   "metadata": {},
   "outputs": [
    {
     "data": {
      "text/plain": [
       "'Iam'"
      ]
     },
     "execution_count": 24,
     "metadata": {},
     "output_type": "execute_result"
    }
   ],
   "source": [
    "a + b"
   ]
  },
  {
   "cell_type": "code",
   "execution_count": 26,
   "id": "4cdfc793-c15c-48a6-9137-f38a0cb764a1",
   "metadata": {},
   "outputs": [
    {
     "data": {
      "text/plain": [
       "'Iam14'"
      ]
     },
     "execution_count": 26,
     "metadata": {},
     "output_type": "execute_result"
    }
   ],
   "source": [
    "a + b + str(c)"
   ]
  },
  {
   "cell_type": "code",
   "execution_count": 27,
   "id": "9adefabb-5f46-497e-a22a-b9ab3eabcb65",
   "metadata": {},
   "outputs": [
    {
     "ename": "NameError",
     "evalue": "name 'fstring' is not defined",
     "output_type": "error",
     "traceback": [
      "\u001b[1;31m---------------------------------------------------------------------------\u001b[0m",
      "\u001b[1;31mNameError\u001b[0m                                 Traceback (most recent call last)",
      "Cell \u001b[1;32mIn[27], line 1\u001b[0m\n\u001b[1;32m----> 1\u001b[0m fstring(a,b,c,d)\n",
      "\u001b[1;31mNameError\u001b[0m: name 'fstring' is not defined"
     ]
    }
   ],
   "source": [
    "fstring(a,b,c,d)"
   ]
  },
  {
   "cell_type": "code",
   "execution_count": 29,
   "id": "cf70e164-540b-4a64-9cd4-659084aa164a",
   "metadata": {},
   "outputs": [
    {
     "ename": "NameError",
     "evalue": "name 'f' is not defined",
     "output_type": "error",
     "traceback": [
      "\u001b[1;31m---------------------------------------------------------------------------\u001b[0m",
      "\u001b[1;31mNameError\u001b[0m                                 Traceback (most recent call last)",
      "Cell \u001b[1;32mIn[29], line 1\u001b[0m\n\u001b[1;32m----> 1\u001b[0m f(a, b, c)\n",
      "\u001b[1;31mNameError\u001b[0m: name 'f' is not defined"
     ]
    }
   ],
   "source": [
    "f(a, b, c)"
   ]
  },
  {
   "cell_type": "code",
   "execution_count": null,
   "id": "00815312-893c-4e80-9881-7ceefcc0ed66",
   "metadata": {},
   "outputs": [],
   "source": []
  }
 ],
 "metadata": {
  "kernelspec": {
   "display_name": "Python 3 (ipykernel)",
   "language": "python",
   "name": "python3"
  },
  "language_info": {
   "codemirror_mode": {
    "name": "ipython",
    "version": 3
   },
   "file_extension": ".py",
   "mimetype": "text/x-python",
   "name": "python",
   "nbconvert_exporter": "python",
   "pygments_lexer": "ipython3",
   "version": "3.11.10"
  }
 },
 "nbformat": 4,
 "nbformat_minor": 5
}
