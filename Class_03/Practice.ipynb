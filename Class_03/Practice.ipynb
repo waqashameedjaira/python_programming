{
 "cells": [
  {
   "cell_type": "code",
   "execution_count": 1,
   "id": "43bd751b-ff34-4260-9e57-d58e4c7811f6",
   "metadata": {},
   "outputs": [
    {
     "name": "stdout",
     "output_type": "stream",
     "text": [
      "Hello World\n"
     ]
    }
   ],
   "source": [
    "print(\"Hello World\")"
   ]
  },
  {
   "cell_type": "code",
   "execution_count": 2,
   "id": "2b538655-cca8-4e2f-88c1-bc343ef5d56d",
   "metadata": {},
   "outputs": [
    {
     "name": "stdout",
     "output_type": "stream",
     "text": [
      "Waqas\n"
     ]
    }
   ],
   "source": [
    "name = \"Waqas\"\n",
    "print(name)"
   ]
  },
  {
   "cell_type": "code",
   "execution_count": 3,
   "id": "09c4ae16-f7af-4d09-a43c-0b7a7311e272",
   "metadata": {},
   "outputs": [
    {
     "name": "stdout",
     "output_type": "stream",
     "text": [
      "Hameed\n"
     ]
    }
   ],
   "source": [
    "name = \"Hameed\"\n",
    "print(name)"
   ]
  },
  {
   "cell_type": "code",
   "execution_count": 4,
   "id": "9f4bb2d7-0a8d-4dc1-b5e5-db7e30684903",
   "metadata": {},
   "outputs": [],
   "source": [
    "age = 25\n",
    "age = 25 + 5"
   ]
  },
  {
   "cell_type": "code",
   "execution_count": 5,
   "id": "8f1b5c26-1ef3-4c96-9dae-51db25cde46b",
   "metadata": {},
   "outputs": [
    {
     "name": "stdout",
     "output_type": "stream",
     "text": [
      "30\n"
     ]
    }
   ],
   "source": [
    "print(age)"
   ]
  },
  {
   "cell_type": "markdown",
   "id": "2659bf7f-4966-410d-9d3e-131770f2bed3",
   "metadata": {},
   "source": [
    "### Maths Unfimiliar operators"
   ]
  },
  {
   "cell_type": "code",
   "execution_count": 6,
   "id": "26e08ced-e1ad-48fa-9c45-d7cf581e0e2e",
   "metadata": {},
   "outputs": [
    {
     "data": {
      "text/plain": [
       "1"
      ]
     },
     "execution_count": 6,
     "metadata": {},
     "output_type": "execute_result"
    }
   ],
   "source": [
    "10%3"
   ]
  },
  {
   "cell_type": "code",
   "execution_count": 7,
   "id": "9e78bbe6-272f-4c8a-b955-1f0792cd8e3f",
   "metadata": {},
   "outputs": [
    {
     "data": {
      "text/plain": [
       "25"
      ]
     },
     "execution_count": 7,
     "metadata": {},
     "output_type": "execute_result"
    }
   ],
   "source": [
    "5**2"
   ]
  },
  {
   "cell_type": "code",
   "execution_count": 8,
   "id": "73f83416-607c-45be-b68f-588f7c78872d",
   "metadata": {},
   "outputs": [
    {
     "data": {
      "text/plain": [
       "3"
      ]
     },
     "execution_count": 8,
     "metadata": {},
     "output_type": "execute_result"
    }
   ],
   "source": [
    "6//2"
   ]
  },
  {
   "cell_type": "code",
   "execution_count": 9,
   "id": "b9cd5d2b-6e4d-460a-9448-f0ed8715a93e",
   "metadata": {},
   "outputs": [
    {
     "data": {
      "text/plain": [
       "2"
      ]
     },
     "execution_count": 9,
     "metadata": {},
     "output_type": "execute_result"
    }
   ],
   "source": [
    "5//2"
   ]
  },
  {
   "cell_type": "code",
   "execution_count": 23,
   "id": "1c3fce7f-56a1-483e-86a3-aff7b8b4a51e",
   "metadata": {},
   "outputs": [],
   "source": [
    "num = 10"
   ]
  },
  {
   "cell_type": "code",
   "execution_count": 24,
   "id": "d44a4651-2bc1-42c6-80b8-375f22f29640",
   "metadata": {},
   "outputs": [],
   "source": [
    "num /=2"
   ]
  },
  {
   "cell_type": "code",
   "execution_count": 25,
   "id": "b08e12fd-5ad1-4dcd-b0e8-b18769946a2f",
   "metadata": {},
   "outputs": [
    {
     "name": "stdout",
     "output_type": "stream",
     "text": [
      "5.0\n"
     ]
    }
   ],
   "source": [
    "print(num)"
   ]
  },
  {
   "cell_type": "code",
   "execution_count": 28,
   "id": "8f62d9bb-690a-40ad-9e3e-aaa9c4afc00a",
   "metadata": {},
   "outputs": [
    {
     "data": {
      "text/plain": [
       "3.0"
      ]
     },
     "execution_count": 28,
     "metadata": {},
     "output_type": "execute_result"
    }
   ],
   "source": [
    "6/2"
   ]
  },
  {
   "cell_type": "code",
   "execution_count": 29,
   "id": "44868196-2bd0-440d-a122-69329601c2f1",
   "metadata": {},
   "outputs": [],
   "source": [
    "calculate = ((2*2)-2)+2"
   ]
  },
  {
   "cell_type": "code",
   "execution_count": 30,
   "id": "aff3f04a-23ea-49c4-b1fb-6b1444a42efd",
   "metadata": {},
   "outputs": [
    {
     "name": "stdout",
     "output_type": "stream",
     "text": [
      "4\n"
     ]
    }
   ],
   "source": [
    "print(calculate)"
   ]
  },
  {
   "cell_type": "markdown",
   "id": "9291d8e5-7489-4804-b7f0-56d094843957",
   "metadata": {},
   "source": [
    "### concatinating text"
   ]
  },
  {
   "cell_type": "code",
   "execution_count": 32,
   "id": "b5b28e7e-9196-41e8-9ee4-160f1debe1d0",
   "metadata": {},
   "outputs": [],
   "source": [
    "fname = \"Waqas\"\n",
    "lname = \"hameed\""
   ]
  },
  {
   "cell_type": "code",
   "execution_count": 35,
   "id": "8d55bda3-bcab-44cc-9e24-13d0b8c0dd4b",
   "metadata": {},
   "outputs": [
    {
     "name": "stdout",
     "output_type": "stream",
     "text": [
      "Waqas hameed\n"
     ]
    }
   ],
   "source": [
    "fullname = fname + \" \" + lname\n",
    "print(fullname)"
   ]
  },
  {
   "cell_type": "code",
   "execution_count": 36,
   "id": "6b6ffe96-71c8-48ef-b569-2918299b8ec5",
   "metadata": {},
   "outputs": [],
   "source": [
    "name = \"waqas\"\n",
    "age = 25\n",
    "city = \"karachi\""
   ]
  },
  {
   "cell_type": "code",
   "execution_count": 39,
   "id": "084e350f-5a61-4e33-96e0-38952fdf8737",
   "metadata": {},
   "outputs": [
    {
     "name": "stdout",
     "output_type": "stream",
     "text": [
      "my name is waqas  my age is 25 i am living in karachi\n"
     ]
    }
   ],
   "source": [
    "print(\"my name is \" + name, \" my age is \" + str(age), \"i am living in \" + city)"
   ]
  },
  {
   "cell_type": "code",
   "execution_count": 46,
   "id": "2c3449d6-26e3-414f-82db-ee6c3ca1b320",
   "metadata": {},
   "outputs": [
    {
     "data": {
      "text/plain": [
       "'my name is waqas, my age is 25, i am living in karachi'"
      ]
     },
     "execution_count": 46,
     "metadata": {},
     "output_type": "execute_result"
    }
   ],
   "source": [
    "f\"my name is {name}, my age is {age}, i am living in {city}\""
   ]
  },
  {
   "cell_type": "code",
   "execution_count": 45,
   "id": "9b10ad80-9d9b-4dc8-a865-1b783676c5af",
   "metadata": {},
   "outputs": [
    {
     "data": {
      "text/plain": [
       "'My name is waqas, my age is 25, my weight is karachi'"
      ]
     },
     "execution_count": 45,
     "metadata": {},
     "output_type": "execute_result"
    }
   ],
   "source": [
    "f\"My name is {name}, my age is {age}, my weight is {city}\" # f string"
   ]
  },
  {
   "cell_type": "code",
   "execution_count": 47,
   "id": "7697e3e5-14dd-4586-9958-7513148d1fde",
   "metadata": {},
   "outputs": [
    {
     "data": {
      "text/plain": [
       "'I am waqas, lived in karachi, and i am 25 years old'"
      ]
     },
     "execution_count": 47,
     "metadata": {},
     "output_type": "execute_result"
    }
   ],
   "source": [
    "f\"I am {name}, lived in {city}, and i am {age} years old\""
   ]
  },
  {
   "cell_type": "code",
   "execution_count": 54,
   "id": "17856a86-e826-4ef1-8d0c-6fb3ff11b81e",
   "metadata": {},
   "outputs": [
    {
     "data": {
      "text/plain": [
       "'my name is waqas my age is 25 and i am living in karachi'"
      ]
     },
     "execution_count": 54,
     "metadata": {},
     "output_type": "execute_result"
    }
   ],
   "source": [
    "\"my name is {} my age is {} and i am living in {}\".format(name, age , city)"
   ]
  },
  {
   "cell_type": "code",
   "execution_count": 49,
   "id": "8d30bebe-a49e-4584-a95d-66e558e1aadb",
   "metadata": {},
   "outputs": [
    {
     "data": {
      "text/plain": [
       "'My name is waqas, my age is 25, my weight is karachi'"
      ]
     },
     "execution_count": 49,
     "metadata": {},
     "output_type": "execute_result"
    }
   ],
   "source": [
    "\"My name is {}, my age is {}, my weight is {}\".format(name, age, city)"
   ]
  },
  {
   "cell_type": "markdown",
   "id": "1f8485d5-a89d-49eb-918b-6ffa30b1e280",
   "metadata": {},
   "source": [
    "### Conditional operators"
   ]
  },
  {
   "cell_type": "code",
   "execution_count": 56,
   "id": "3d6c9fb0-080b-4748-980b-18043d5ab665",
   "metadata": {},
   "outputs": [],
   "source": [
    "# \"<\" (less than), \">\" (Greater than) , \"==\" (Is equal to) , \">=\" (greater that and equal to) , \"<=\" (less that and equal to), \"!=\" (not equal to)"
   ]
  },
  {
   "cell_type": "code",
   "execution_count": 59,
   "id": "55e75d0b-9e5a-4c80-b96b-0af363eb731b",
   "metadata": {},
   "outputs": [
    {
     "name": "stdout",
     "output_type": "stream",
     "text": [
      "True\n",
      "False\n",
      "False\n",
      "True\n",
      "False\n",
      "True\n",
      "True\n"
     ]
    }
   ],
   "source": [
    "print(\"waqas\" == \"waqas\")\n",
    "print(\"waqas\" == \"hameed\")\n",
    "print(10<8)\n",
    "print(10>8)\n",
    "print(10<=8)\n",
    "print(10>=8)\n",
    "print(10!=8)"
   ]
  },
  {
   "cell_type": "markdown",
   "id": "ecd8b48f-41d9-4c68-babf-f0d3ea43a272",
   "metadata": {},
   "source": [
    "### Logical operators\n",
    "# AND, OR , NOT"
   ]
  },
  {
   "cell_type": "code",
   "execution_count": 63,
   "id": "7820991c-389d-4c16-9bd4-49f85eafc63b",
   "metadata": {},
   "outputs": [
    {
     "name": "stdout",
     "output_type": "stream",
     "text": [
      "True\n",
      "False\n",
      "False\n"
     ]
    }
   ],
   "source": [
    "# AND\n",
    "\n",
    "print((\"Waqas\" == \"Waqas\") and (\"Waqas\" != \"Hameed\"))\n",
    "print((\"Waqas\" == \"Waqas\") and (\"Waqas\" == \"Hameed\"))\n",
    "print((\"Waqas\" != \"Waqas\") and (\"Waqas\" == \"Hameed\"))"
   ]
  },
  {
   "cell_type": "code",
   "execution_count": 66,
   "id": "c054495d-54e2-48bd-b3fc-f9cb5912acc5",
   "metadata": {},
   "outputs": [
    {
     "name": "stdout",
     "output_type": "stream",
     "text": [
      "True\n",
      "True\n",
      "False\n",
      "True\n"
     ]
    }
   ],
   "source": [
    "# OR\n",
    "\n",
    "print((\"Waqas\" == \"Waqas\") or (\"Waqas\" != \"Hameed\")) #true or true\n",
    "print((\"Waqas\" == \"Waqas\") or (\"Waqas\" == \"Hameed\")) #true or false\n",
    "print((\"Waqas\" != \"Waqas\") or (\"Waqas\" == \"Hameed\")) #false or false\n",
    "print((\"Waqas\" != \"Waqas\") or (\"Waqas\" != \"Hameed\")) #false or true"
   ]
  },
  {
   "cell_type": "code",
   "execution_count": 70,
   "id": "a47129d8-6957-4619-be04-5a40c5942d2c",
   "metadata": {},
   "outputs": [
    {
     "name": "stdout",
     "output_type": "stream",
     "text": [
      "False\n",
      "True\n"
     ]
    }
   ],
   "source": [
    "# NOT\n",
    "\n",
    "print(not True)\n",
    "print(not False)"
   ]
  },
  {
   "cell_type": "markdown",
   "id": "115382ef-97e9-4527-a3a3-c0c667f79d7d",
   "metadata": {},
   "source": [
    "### Logical Operators \"IF, ELIF, ELSE\""
   ]
  },
  {
   "cell_type": "code",
   "execution_count": 72,
   "id": "afa412fe-415d-4a78-b01d-085a6fea18be",
   "metadata": {},
   "outputs": [
    {
     "name": "stdout",
     "output_type": "stream",
     "text": [
      "Student\n"
     ]
    }
   ],
   "source": [
    "name = \"Qasim\"\n",
    "\n",
    "if name == \"Hassan\":\n",
    "    print(\"Trainer\")\n",
    "else:\n",
    "    print(\"Student\")"
   ]
  },
  {
   "cell_type": "code",
   "execution_count": 73,
   "id": "184b6951-7d97-4bc3-9378-67529845abc1",
   "metadata": {},
   "outputs": [
    {
     "name": "stdout",
     "output_type": "stream",
     "text": [
      "Staff\n"
     ]
    }
   ],
   "source": [
    "name = \"Shan\"\n",
    "\n",
    "if name == \"Qasim\":\n",
    "    print(\"Trainer\")\n",
    "elif name == \"Shan\":\n",
    "    print(\"Staff\")\n",
    "else:\n",
    "    print(\"Student\")"
   ]
  },
  {
   "cell_type": "code",
   "execution_count": 76,
   "id": "f506be15-f942-4d7b-85e8-960ee765b805",
   "metadata": {},
   "outputs": [
    {
     "name": "stdin",
     "output_type": "stream",
     "text": [
      "enter your name  Waqas\n"
     ]
    },
    {
     "name": "stdout",
     "output_type": "stream",
     "text": [
      "Student\n"
     ]
    }
   ],
   "source": [
    "name = input(\"enter your name \")\n",
    "\n",
    "if name == \"Qasim\":\n",
    "    print(\"Trainer\")\n",
    "elif name == (\"Shan\"):\n",
    "    print(\"Staff\")\n",
    "else:\n",
    "    print(\"Student\")"
   ]
  },
  {
   "cell_type": "markdown",
   "id": "ff562f60-db76-4b73-ad8c-71fb999d65ca",
   "metadata": {},
   "source": [
    "### Comparision operators"
   ]
  },
  {
   "cell_type": "markdown",
   "id": "464dcfc9-6d3a-41ba-8cba-80fd632a5ea3",
   "metadata": {},
   "source": [
    "### A school has following rules for grading system:\n",
    "\n",
    "Below 25 - F\n",
    "\n",
    "25 to 45 - E\n",
    "45 to 50 - D\n",
    "50 to 60 - C\n",
    "60 to 80 - B\n",
    "Above 80 - A\n",
    "Ask user to enter marks and print the corresponding grade."
   ]
  },
  {
   "cell_type": "code",
   "execution_count": 9,
   "id": "18f68ba9-2cce-483c-94bf-77c84e8d67e5",
   "metadata": {},
   "outputs": [
    {
     "name": "stdin",
     "output_type": "stream",
     "text": [
      "Enter Your Marks 0\n"
     ]
    },
    {
     "name": "stdout",
     "output_type": "stream",
     "text": [
      "Invalid Input\n"
     ]
    }
   ],
   "source": [
    "marks = int(input(\"Enter Your Marks\"))\n",
    "\n",
    "if marks > 80 and marks <= 100:\n",
    "            print(\"Grade A\")\n",
    "elif marks >= 60 and marks <80:\n",
    "    print(\"Grade B\")\n",
    "elif marks >= 50 and marks <60:\n",
    "    print(\"Grade C\")\n",
    "elif marks >= 45 and marks < 50:\n",
    "    print(\"Grade D\")\n",
    "elif marks >= 25 and marks < 45:\n",
    "    print(\"Grade E\")\n",
    "elif marks >0 and marks < 25:\n",
    "    print(\"Grade F\")\n",
    "else:\n",
    "    print(\"Invalid Input\")"
   ]
  },
  {
   "cell_type": "markdown",
   "id": "62c31468-82b2-485d-8b80-3b7919430010",
   "metadata": {},
   "source": [
    "### Ask user to enter age, gender ( M or F ) and then using following rules print their place of service.\n",
    "\n",
    "if employee is female, then she will work only in urban areas.\n",
    "if employee is a male and age is in between 20 to 40 then he may work in anywhere\n",
    "if employee is male and age is in between 40 t0 60 then he will work in urban areas only.\n",
    "And any other input of age should print \"ERROR\""
   ]
  },
  {
   "cell_type": "code",
   "execution_count": 32,
   "id": "ea951a68-ad2e-4932-8c42-9a55569684a3",
   "metadata": {},
   "outputs": [
    {
     "name": "stdin",
     "output_type": "stream",
     "text": [
      "Enter Your Gender (M & F) F\n"
     ]
    },
    {
     "name": "stdout",
     "output_type": "stream",
     "text": [
      "You will only work in Urban areas\n"
     ]
    }
   ],
   "source": [
    "gender = input(\"Enter Your Gender (M & F)\")\n",
    "\n",
    "if gender == \"F\":\n",
    "    print(\"You will only work in Urban areas\")\n",
    "elif gender == \"M\":\n",
    "    age = int(input(\"Enter your Age\"))\n",
    "    if age >= 20 and age <=40:\n",
    "        print(\"you can work anywhere\")\n",
    "    elif age >40 and age <= 60:\n",
    "        print(\"you can only work in urbad areas\")\n",
    "    elif age >=0 and age <=19:\n",
    "        print(\"You are not eligible\")\n",
    "    elif age >60:\n",
    "        print(\"You should get retired\")\n",
    "    else:\n",
    "        print(\"Invalid Input\")"
   ]
  },
  {
   "cell_type": "code",
   "execution_count": 31,
   "id": "cd0b3e2d-49bc-449a-8682-79f441631245",
   "metadata": {},
   "outputs": [
    {
     "name": "stdin",
     "output_type": "stream",
     "text": [
      "Enter Your Gender (M or F):  F\n"
     ]
    },
    {
     "name": "stdout",
     "output_type": "stream",
     "text": [
      "You will only work in Urban areas\n"
     ]
    }
   ],
   "source": [
    "gender = input(\"Enter Your Gender (M or F): \").strip().upper()\n",
    "\n",
    "if gender == \"F\":\n",
    "    print(\"You will only work in Urban areas\")\n",
    "elif gender == \"M\":\n",
    "    age = int(input(\"Enter your Age: \"))\n",
    "    if age >= 20 and age <= 40:\n",
    "        print(\"You can work anywhere\")\n",
    "    elif age > 40 and age <= 60:\n",
    "        print(\"You can only work in Urban areas\")\n",
    "    elif age >= 0 and age <= 19:\n",
    "        print(\"You are not eligible\")\n",
    "    elif age > 60:\n",
    "        print(\"You should get retired\")\n",
    "    else:\n",
    "        print(\"Invalid Input\")\n",
    "else:\n",
    "    print(\"Invalid Gender Input\")"
   ]
  },
  {
   "cell_type": "markdown",
   "id": "8108ea45-a170-48bb-9ca9-891657491ab6",
   "metadata": {},
   "source": [
    "### List"
   ]
  },
  {
   "cell_type": "code",
   "execution_count": 33,
   "id": "3a677051-9e2a-483a-b1b6-64985e1cb4af",
   "metadata": {},
   "outputs": [],
   "source": [
    "city_0 = \"Atlanta\"\n",
    "city_1 = \"Baltimore\"\n",
    "city_2 = \"Chicago\"\n",
    "city_3 = \"Denver\"\n",
    "city_4 = \"Los Angeles\"\n",
    "city_5 = \"Seattle\""
   ]
  },
  {
   "cell_type": "code",
   "execution_count": 34,
   "id": "1db8da8d-1fcd-453d-ab8a-669ae5b060f5",
   "metadata": {},
   "outputs": [],
   "source": [
    "cities = [\"Atlanta\", \"Baltimor\", \"Chicago\",\"Denver\", \"Los Angeles\",\n",
    "          \"Seattle\"]"
   ]
  },
  {
   "cell_type": "code",
   "execution_count": 35,
   "id": "b3d58b0b-a12c-4801-8912-d15e4537e6a3",
   "metadata": {},
   "outputs": [
    {
     "data": {
      "text/plain": [
       "['Atlanta', 'Baltimor', 'Chicago', 'Denver', 'Los Angeles', 'Seattle']"
      ]
     },
     "execution_count": 35,
     "metadata": {},
     "output_type": "execute_result"
    }
   ],
   "source": [
    "cities"
   ]
  },
  {
   "cell_type": "code",
   "execution_count": 36,
   "id": "353b6a1a-910f-4b0d-9f3d-d60808dbef73",
   "metadata": {},
   "outputs": [
    {
     "data": {
      "text/plain": [
       "'Denver'"
      ]
     },
     "execution_count": 36,
     "metadata": {},
     "output_type": "execute_result"
    }
   ],
   "source": [
    "cities[3]"
   ]
  },
  {
   "cell_type": "code",
   "execution_count": 37,
   "id": "fdeefffd-289b-4e95-9c4d-d24a99528f62",
   "metadata": {},
   "outputs": [
    {
     "data": {
      "text/plain": [
       "'Los Angeles'"
      ]
     },
     "execution_count": 37,
     "metadata": {},
     "output_type": "execute_result"
    }
   ],
   "source": [
    "cities[-2]"
   ]
  },
  {
   "cell_type": "code",
   "execution_count": null,
   "id": "020c89ad-1653-4396-a918-c39b770f7560",
   "metadata": {},
   "outputs": [],
   "source": []
  }
 ],
 "metadata": {
  "kernelspec": {
   "display_name": "Python 3 (ipykernel)",
   "language": "python",
   "name": "python3"
  },
  "language_info": {
   "codemirror_mode": {
    "name": "ipython",
    "version": 3
   },
   "file_extension": ".py",
   "mimetype": "text/x-python",
   "name": "python",
   "nbconvert_exporter": "python",
   "pygments_lexer": "ipython3",
   "version": "3.11.10"
  }
 },
 "nbformat": 4,
 "nbformat_minor": 5
}
