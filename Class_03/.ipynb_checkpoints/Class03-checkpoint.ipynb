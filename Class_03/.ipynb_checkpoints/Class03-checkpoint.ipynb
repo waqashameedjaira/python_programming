{
 "cells": [
  {
   "cell_type": "code",
   "execution_count": 1,
   "id": "6262e373-4155-4b99-b14e-4b25cd2b7a5b",
   "metadata": {},
   "outputs": [
    {
     "ename": "SyntaxError",
     "evalue": "unterminated string literal (detected at line 2) (3188795424.py, line 2)",
     "output_type": "error",
     "traceback": [
      "\u001b[1;36m  Cell \u001b[1;32mIn[1], line 2\u001b[1;36m\u001b[0m\n\u001b[1;33m    (\"Qasim\" = \"\u001b[0m\n\u001b[1;37m               ^\u001b[0m\n\u001b[1;31mSyntaxError\u001b[0m\u001b[1;31m:\u001b[0m unterminated string literal (detected at line 2)\n"
     ]
    }
   ],
   "source": [
    "# Logical operators AND,OR, NOT\n",
    "(\"Qasim\" = \""
   ]
  },
  {
   "cell_type": "code",
   "execution_count": 2,
   "id": "a56f78b1-a11a-4f5d-95f5-ee7f3ecea522",
   "metadata": {},
   "outputs": [
    {
     "name": "stdin",
     "output_type": "stream",
     "text": [
      "Enter your Name:  Qasim\n"
     ]
    },
    {
     "data": {
      "text/plain": [
       "'Qasim'"
      ]
     },
     "execution_count": 2,
     "metadata": {},
     "output_type": "execute_result"
    }
   ],
   "source": [
    "# to read documentation of any fuction => shift Tab\n",
    "# by default anything that infput fuctiontake is in STRING datatype\n",
    "input(\"Enter your Name: \")"
   ]
  },
  {
   "cell_type": "code",
   "execution_count": 8,
   "id": "2973429b-689c-44e3-ba8d-e684e3593e34",
   "metadata": {},
   "outputs": [
    {
     "name": "stdin",
     "output_type": "stream",
     "text": [
      "your year of experience 5\n",
      "your current sallary 50000\n"
     ]
    }
   ],
   "source": [
    "yearofexp = int(input(\"your year of experience\"))\n",
    "yourcurrentsalary = input(\"your current sallary\")"
   ]
  },
  {
   "cell_type": "code",
   "execution_count": 13,
   "id": "90d279b8-3a0a-4a2e-8831-5897754fa7f6",
   "metadata": {},
   "outputs": [
    {
     "name": "stdin",
     "output_type": "stream",
     "text": [
      "your year of experience 4\n"
     ]
    },
    {
     "name": "stdout",
     "output_type": "stream",
     "text": [
      "you are not eligble for bonus\n"
     ]
    }
   ],
   "source": [
    "yearOfExp = int(input(\"your year of experience\"))\n",
    "if(yearOfExp > 5):\n",
    "    salary = int(input(\"what is your current salary\"))\n",
    "    print(\"your bonus will be \", 0.05 * salary)\n",
    "else:\n",
    "    print(\"you are not eligble for bonus\")\n",
    "                 "
   ]
  },
  {
   "cell_type": "code",
   "execution_count": 3,
   "id": "1cc0c046-0794-4ff0-be41-df768dab2cf2",
   "metadata": {},
   "outputs": [
    {
     "name": "stdin",
     "output_type": "stream",
     "text": [
      "Enter your age 5\n"
     ]
    },
    {
     "name": "stdout",
     "output_type": "stream",
     "text": [
      "your are not eligible for voting\n"
     ]
    }
   ],
   "source": [
    "yourage = int(input(\"Enter your age\"))\n",
    "if(yourage > 17):\n",
    "    print(\"your are eligible for voting\")\n",
    "else:\n",
    "    print(\"your are not eligible for voting\")\n"
   ]
  },
  {
   "cell_type": "code",
   "execution_count": null,
   "id": "656b8efe-2a36-4966-bc13-7b090126fad4",
   "metadata": {},
   "outputs": [],
   "source": [
    "number = int(input(\"Enter Number\"))\n",
    "if(number / 5"
   ]
  },
  {
   "cell_type": "code",
   "execution_count": 8,
   "id": "9be8ba25-3643-4505-8ac5-832c0d177a63",
   "metadata": {},
   "outputs": [
    {
     "name": "stdin",
     "output_type": "stream",
     "text": [
      "Enter any number that is divisible by 5:  65\n"
     ]
    },
    {
     "name": "stdout",
     "output_type": "stream",
     "text": [
      "Hello\n"
     ]
    }
   ],
   "source": [
    "number = int(input(\"Enter any number that is divisible by 5: \"))\n",
    "\n",
    "if(number % 5 == 0):\n",
    "    print(\"Hello\")\n",
    "else:\n",
    "    print(\"Bye\")\n"
   ]
  },
  {
   "cell_type": "code",
   "execution_count": 17,
   "id": "cdb6fbb0-3d9e-4cb1-97e6-cbe701f85e46",
   "metadata": {},
   "outputs": [
    {
     "name": "stdin",
     "output_type": "stream",
     "text": [
      "Enter your marks -1\n"
     ]
    },
    {
     "name": "stdout",
     "output_type": "stream",
     "text": [
      "Invalid input\n"
     ]
    }
   ],
   "source": [
    "marks = int(input(\"Enter your marks\"))\n",
    "\n",
    "if marks >= 80 and marks <100:\n",
    "    print(\"Grade A\")\n",
    "elif marks >= 60 and marks < 80:\n",
    "    print(\"Grade B\")\n",
    "elif marks >= 50 and marks < 60:\n",
    "    print(\"Grade C\")\n",
    "elif marks >= 45 and marks < 50:\n",
    "    print(\"Grade D\")\n",
    "elif marks >= 25 and marks < 45:\n",
    "    print(\"Grade E\")\n",
    "elif marks >= 25 and marks < 0:\n",
    "    print(\"Grade F\")\n",
    "else:\n",
    "    print(\"Invalid input\")"
   ]
  },
  {
   "cell_type": "code",
   "execution_count": 21,
   "id": "50ad6a8f-bb0c-42f3-8c3b-43f1daaeeaf8",
   "metadata": {},
   "outputs": [
    {
     "name": "stdin",
     "output_type": "stream",
     "text": [
      "Enter your nationality:  Pakistani\n",
      "enter your age:  4\n"
     ]
    },
    {
     "name": "stdout",
     "output_type": "stream",
     "text": [
      "you're not eligible...\n"
     ]
    }
   ],
   "source": [
    "nationality = input(\"Enter your nationality: \")\n",
    "\n",
    "if nationality.lower() == \"pakistani\":\n",
    "    age = int(input(\"enter your age: \"))\n",
    "    if age >= 18:\n",
    "        print(\"you're eligible...\")\n",
    "    else:\n",
    "        print(\"you're not eligible...\")\n",
    "else:\n",
    "    print(\"should be Pakistani to cast VOTE\")"
   ]
  },
  {
   "cell_type": "code",
   "execution_count": 25,
   "id": "f2478b04-31d3-4376-b9d1-36b573a0a2d6",
   "metadata": {},
   "outputs": [
    {
     "name": "stdin",
     "output_type": "stream",
     "text": [
      "enter your gender m\n",
      "enter your age 21\n",
      "enter your marital status mar\n"
     ]
    },
    {
     "name": "stdout",
     "output_type": "stream",
     "text": [
      "Invalid input\n"
     ]
    }
   ],
   "source": [
    "gender = input(\"enter your gender\")\n",
    "age = int(input(\"enter your age\"))\n",
    "marital_status = input(\"enter your marital status\")\n",
    "\n",
    "if gender.lower() == \"F\":\n",
    "    print(\"you will only work in urban areas\")\n",
    "elif gender.lower() == \"M\" and age >=20 and age <= 40:\n",
    "    print(\"you will only work in rural areas\")\n",
    "elif gender.lower() == \"M\" and age > 40:\n",
    "    print(\"you will only work in urban areas\")\n",
    "else:\n",
    "    print(\"Invalid input\")\n"
   ]
  },
  {
   "cell_type": "code",
   "execution_count": 33,
   "id": "21ea86e7-bddb-4c9c-b324-82f8ad13e302",
   "metadata": {},
   "outputs": [
    {
     "name": "stdin",
     "output_type": "stream",
     "text": [
      "enter your age 21\n",
      "enter your gender F\n"
     ]
    },
    {
     "name": "stdout",
     "output_type": "stream",
     "text": [
      "you can work anywhere\n"
     ]
    }
   ],
   "source": [
    "age = int(input(\"enter your age\"))\n",
    "gender = input(\"enter your gender\")\n",
    "\n",
    "\n",
    "if gender.lower() == \"F\":\n",
    "    print(\"you will only work in urban areas\")\n",
    "else:\n",
    "    if age >= 40 and age <=60:\n",
    "        print(\"yor can work only in urban areas\")\n",
    "    elif age >20 and age <40:\n",
    "        print(\"you can work anywhere\")\n",
    "    else:\n",
    "        print(\"you may be above 19 or you shoud get retired\")\n",
    "\n"
   ]
  },
  {
   "cell_type": "code",
   "execution_count": null,
   "id": "0db6a3e8-ef62-4da6-a35d-8b5f62d12a9b",
   "metadata": {},
   "outputs": [],
   "source": [
    "# comment can be added for documentation"
   ]
  },
  {
   "cell_type": "code",
   "execution_count": 34,
   "id": "945fae3f-2647-447f-a9a9-1389e825d37b",
   "metadata": {},
   "outputs": [
    {
     "data": {
      "text/plain": [
       "'\\nthis is alos comment\\nbut it is a multiple comment\\n'"
      ]
     },
     "execution_count": 34,
     "metadata": {},
     "output_type": "execute_result"
    }
   ],
   "source": [
    "'''\n",
    "this is alos comment\n",
    "but it is a multiple comment\n",
    "'''"
   ]
  },
  {
   "cell_type": "markdown",
   "id": "8957e411-651e-434b-b1b5-678e6c73fe58",
   "metadata": {},
   "source": [
    "## List"
   ]
  },
  {
   "cell_type": "code",
   "execution_count": 35,
   "id": "113b3182-cd3a-48a1-883e-67b2b0a317a1",
   "metadata": {},
   "outputs": [],
   "source": [
    "# How to store same collection of multiple values\n",
    "city_0 = \"Karachi\"\n",
    "city_1 = \"Lahore\"\n",
    "# .............. \n",
    "# this approach is not recomended"
   ]
  },
  {
   "cell_type": "code",
   "execution_count": 38,
   "id": "117da893-fb3e-4118-8637-b1ba00ed24fb",
   "metadata": {},
   "outputs": [],
   "source": [
    "# list always starts []\n",
    "# values can be seperated by ,\n",
    "cities = [\"Karachi\", \"Lahore\", \"Islamabad\", \"Hyderabad\", \"Rawalpindi\"]"
   ]
  },
  {
   "cell_type": "code",
   "execution_count": 39,
   "id": "79dddf25-2ad4-489e-b2db-f054aebf3a2a",
   "metadata": {},
   "outputs": [
    {
     "data": {
      "text/plain": [
       "['Karachi', 'Lahore', 'Islamabad', 'Hyderabad', 'Rawalpindi']"
      ]
     },
     "execution_count": 39,
     "metadata": {},
     "output_type": "execute_result"
    }
   ],
   "source": [
    "cities"
   ]
  },
  {
   "cell_type": "code",
   "execution_count": 40,
   "id": "a1a13370-4aec-4204-96af-aaebb27da958",
   "metadata": {},
   "outputs": [],
   "source": [
    "#     -5            -4       -3            -2        -1\n",
    "# [\"Karachi\", \"Lahore\", \"Islamabad\", \"Hyderabad\", \"Rawalpindi\"]\n",
    "#     0         1          2             3            4"
   ]
  },
  {
   "cell_type": "code",
   "execution_count": 42,
   "id": "37b1bda9-eddc-45d2-af3d-e0b217b6e11c",
   "metadata": {},
   "outputs": [
    {
     "data": {
      "text/plain": [
       "'Lahore'"
      ]
     },
     "execution_count": 42,
     "metadata": {},
     "output_type": "execute_result"
    }
   ],
   "source": [
    "cities[1]"
   ]
  },
  {
   "cell_type": "code",
   "execution_count": 43,
   "id": "a3d13f4b-e818-41cd-b859-2cea27a061a6",
   "metadata": {},
   "outputs": [
    {
     "data": {
      "text/plain": [
       "'Islamabad'"
      ]
     },
     "execution_count": 43,
     "metadata": {},
     "output_type": "execute_result"
    }
   ],
   "source": [
    "cities[-3]"
   ]
  },
  {
   "cell_type": "code",
   "execution_count": 44,
   "id": "94ea58ef-f6dd-4be7-85b3-d731ed4e3769",
   "metadata": {},
   "outputs": [
    {
     "data": {
      "text/plain": [
       "['Islamabad', 'Hyderabad', 'Rawalpindi']"
      ]
     },
     "execution_count": 44,
     "metadata": {},
     "output_type": "execute_result"
    }
   ],
   "source": [
    "cities[2:]"
   ]
  },
  {
   "cell_type": "code",
   "execution_count": 46,
   "id": "c9f1da78-5033-45a9-8cfe-7c0e40faf5f6",
   "metadata": {},
   "outputs": [
    {
     "data": {
      "text/plain": [
       "['Islamabad', 'Hyderabad']"
      ]
     },
     "execution_count": 46,
     "metadata": {},
     "output_type": "execute_result"
    }
   ],
   "source": [
    "# slicing\n",
    "# starting valuse is always been included\n",
    "# end values is always been not included\n",
    "cities[2:4]"
   ]
  },
  {
   "cell_type": "markdown",
   "id": "48b2fcc0-a5f6-4562-8701-69d9b723a44c",
   "metadata": {},
   "source": [
    "## List: Adding and changing elements"
   ]
  },
  {
   "cell_type": "code",
   "execution_count": 47,
   "id": "165c240e-5c8b-44ac-99d7-401b6ca61f02",
   "metadata": {},
   "outputs": [],
   "source": [
    "cities[0] = \"Atlantica\""
   ]
  },
  {
   "cell_type": "code",
   "execution_count": 48,
   "id": "649107e1-37bb-4169-b322-1474a08302f2",
   "metadata": {},
   "outputs": [
    {
     "data": {
      "text/plain": [
       "['Atlantica', 'Lahore', 'Islamabad', 'Hyderabad', 'Rawalpindi']"
      ]
     },
     "execution_count": 48,
     "metadata": {},
     "output_type": "execute_result"
    }
   ],
   "source": [
    "cities"
   ]
  },
  {
   "cell_type": "code",
   "execution_count": 50,
   "id": "2c479673-adfc-4aa7-8aad-cbf515a5f722",
   "metadata": {},
   "outputs": [],
   "source": [
    "city_5 = \"Hunza\""
   ]
  },
  {
   "cell_type": "code",
   "execution_count": 51,
   "id": "683a54ad-7489-4371-8fd0-91eb9ceda4df",
   "metadata": {},
   "outputs": [],
   "source": [
    "cities = cities + [city_5]"
   ]
  },
  {
   "cell_type": "code",
   "execution_count": 52,
   "id": "f75328fe-d45a-4fff-ba19-7550432080f4",
   "metadata": {},
   "outputs": [
    {
     "data": {
      "text/plain": [
       "['Atlantica', 'Lahore', 'Islamabad', 'Hyderabad', 'Rawalpindi', 'Hunza']"
      ]
     },
     "execution_count": 52,
     "metadata": {},
     "output_type": "execute_result"
    }
   ],
   "source": [
    "cities"
   ]
  },
  {
   "cell_type": "code",
   "execution_count": 54,
   "id": "6319b57c-5124-40ae-aa4c-90e7bb70514f",
   "metadata": {},
   "outputs": [],
   "source": [
    "cities.append(\"Sukkur\")"
   ]
  },
  {
   "cell_type": "code",
   "execution_count": 55,
   "id": "b1b4bb0b-06c5-4818-9534-05f8b8609d1a",
   "metadata": {},
   "outputs": [
    {
     "data": {
      "text/plain": [
       "['Atlantica',\n",
       " 'Lahore',\n",
       " 'Islamabad',\n",
       " 'Hyderabad',\n",
       " 'Rawalpindi',\n",
       " 'Hunza',\n",
       " 'Sukkur']"
      ]
     },
     "execution_count": 55,
     "metadata": {},
     "output_type": "execute_result"
    }
   ],
   "source": [
    "cities"
   ]
  },
  {
   "cell_type": "markdown",
   "id": "8ce10af0-d7d2-434f-929e-bc236784e4c6",
   "metadata": {},
   "source": [
    "### List: Deleting removing elements"
   ]
  },
  {
   "cell_type": "code",
   "execution_count": 56,
   "id": "9af0b0c7-dcdb-4e7f-b736-10b66190e165",
   "metadata": {},
   "outputs": [
    {
     "data": {
      "text/plain": [
       "['Atlantica',\n",
       " 'Lahore',\n",
       " 'Islamabad',\n",
       " 'Hyderabad',\n",
       " 'Rawalpindi',\n",
       " 'Hunza',\n",
       " 'Sukkur']"
      ]
     },
     "execution_count": 56,
     "metadata": {},
     "output_type": "execute_result"
    }
   ],
   "source": [
    "cities"
   ]
  },
  {
   "cell_type": "code",
   "execution_count": 57,
   "id": "3ba3fb1e-3484-45fc-9b1e-3461dc82fa59",
   "metadata": {},
   "outputs": [],
   "source": [
    "cities.remove(\"Hunza\")"
   ]
  },
  {
   "cell_type": "code",
   "execution_count": 58,
   "id": "7e17926d-0af8-4ab6-8946-5dd1f07f967e",
   "metadata": {},
   "outputs": [
    {
     "data": {
      "text/plain": [
       "['Atlantica', 'Lahore', 'Islamabad', 'Hyderabad', 'Rawalpindi', 'Sukkur']"
      ]
     },
     "execution_count": 58,
     "metadata": {},
     "output_type": "execute_result"
    }
   ],
   "source": [
    "cities"
   ]
  },
  {
   "cell_type": "code",
   "execution_count": 59,
   "id": "60fea4b0-b668-4b7a-8785-48dcf375ba7e",
   "metadata": {},
   "outputs": [],
   "source": [
    "del cities[-1]"
   ]
  },
  {
   "cell_type": "code",
   "execution_count": 60,
   "id": "d78f7307-a69d-46fc-ac3c-04d8462bc0dc",
   "metadata": {},
   "outputs": [
    {
     "data": {
      "text/plain": [
       "['Atlantica', 'Lahore', 'Islamabad', 'Hyderabad', 'Rawalpindi']"
      ]
     },
     "execution_count": 60,
     "metadata": {},
     "output_type": "execute_result"
    }
   ],
   "source": [
    "cities"
   ]
  },
  {
   "cell_type": "markdown",
   "id": "c0f733ef-2f2a-464e-b7e0-2c3def0bbc12",
   "metadata": {},
   "source": [
    "### List: poppoing elements"
   ]
  },
  {
   "cell_type": "code",
   "execution_count": 62,
   "id": "b7c9e300-b254-4444-bbd7-f13b7eae70bc",
   "metadata": {},
   "outputs": [
    {
     "data": {
      "text/plain": [
       "'Rawalpindi'"
      ]
     },
     "execution_count": 62,
     "metadata": {},
     "output_type": "execute_result"
    }
   ],
   "source": [
    "cities.pop()"
   ]
  },
  {
   "cell_type": "code",
   "execution_count": 63,
   "id": "5e73a7c6-757d-4790-ad39-326f419fe87f",
   "metadata": {},
   "outputs": [
    {
     "data": {
      "text/plain": [
       "['Atlantica', 'Lahore', 'Islamabad', 'Hyderabad']"
      ]
     },
     "execution_count": 63,
     "metadata": {},
     "output_type": "execute_result"
    }
   ],
   "source": [
    "cities"
   ]
  },
  {
   "cell_type": "code",
   "execution_count": 64,
   "id": "5fc3ae3f-2cd9-4a46-abe7-60239865e1ed",
   "metadata": {},
   "outputs": [],
   "source": [
    "tasks = [\"email Frank\", \"call sarah\", \"meet with zach\"]"
   ]
  },
  {
   "cell_type": "code",
   "execution_count": 65,
   "id": "c53111f0-d849-4b0b-bf25-50a18b6a9da9",
   "metadata": {},
   "outputs": [],
   "source": [
    "task_done = []"
   ]
  },
  {
   "cell_type": "code",
   "execution_count": null,
   "id": "597788b8-a01d-40aa-93c7-fe163896f647",
   "metadata": {},
   "outputs": [],
   "source": []
  }
 ],
 "metadata": {
  "kernelspec": {
   "display_name": "Python 3 (ipykernel)",
   "language": "python",
   "name": "python3"
  },
  "language_info": {
   "codemirror_mode": {
    "name": "ipython",
    "version": 3
   },
   "file_extension": ".py",
   "mimetype": "text/x-python",
   "name": "python",
   "nbconvert_exporter": "python",
   "pygments_lexer": "ipython3",
   "version": "3.11.10"
  }
 },
 "nbformat": 4,
 "nbformat_minor": 5
}
