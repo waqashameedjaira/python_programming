{
 "cells": [
  {
   "cell_type": "code",
   "execution_count": 1,
   "id": "4a9f2e98-b694-42fe-9d24-a413425ea04f",
   "metadata": {},
   "outputs": [
    {
     "name": "stdout",
     "output_type": "stream",
     "text": [
      "Collecting bs4\n",
      "  Downloading bs4-0.0.2-py2.py3-none-any.whl.metadata (411 bytes)\n",
      "Requirement already satisfied: beautifulsoup4 in c:\\users\\hp\\anaconda3\\lib\\site-packages (from bs4) (4.12.3)\n",
      "Requirement already satisfied: soupsieve>1.2 in c:\\users\\hp\\anaconda3\\lib\\site-packages (from beautifulsoup4->bs4) (2.5)\n",
      "Downloading bs4-0.0.2-py2.py3-none-any.whl (1.2 kB)\n",
      "Installing collected packages: bs4\n",
      "Successfully installed bs4-0.0.2\n",
      "Note: you may need to restart the kernel to use updated packages.\n"
     ]
    }
   ],
   "source": [
    "pip install bs4"
   ]
  },
  {
   "cell_type": "code",
   "execution_count": 2,
   "id": "bd31ae1a-b559-4708-8daa-f0a490c1c06e",
   "metadata": {},
   "outputs": [],
   "source": [
    "from bs4 import BeautifulSoup\n",
    "import requests"
   ]
  },
  {
   "cell_type": "code",
   "execution_count": 3,
   "id": "e217fa3c-7ecb-4e0a-a5f6-5bd4f6321661",
   "metadata": {},
   "outputs": [
    {
     "data": {
      "text/plain": [
       "<Response [200]>"
      ]
     },
     "execution_count": 3,
     "metadata": {},
     "output_type": "execute_result"
    }
   ],
   "source": [
    "url = 'https://www.pakwheels.com/new-cars/audi/'\n",
    "requests = requests.get(url)\n",
    "requests"
   ]
  },
  {
   "cell_type": "code",
   "execution_count": 11,
   "id": "34db366e-def6-44a4-8320-6bd5ab3d156d",
   "metadata": {},
   "outputs": [],
   "source": [
    "soup = BeautifulSoup(requests.content, 'html.parser')"
   ]
  },
  {
   "cell_type": "code",
   "execution_count": 14,
   "id": "0de13adf-e02c-48b8-a1c7-76edf020f40b",
   "metadata": {},
   "outputs": [
    {
     "ename": "SyntaxError",
     "evalue": "incomplete input (3125103258.py, line 3)",
     "output_type": "error",
     "traceback": [
      "\u001b[1;36m  Cell \u001b[1;32mIn[14], line 3\u001b[1;36m\u001b[0m\n\u001b[1;33m    # not for use\u001b[0m\n\u001b[1;37m                 ^\u001b[0m\n\u001b[1;31mSyntaxError\u001b[0m\u001b[1;31m:\u001b[0m incomplete input\n"
     ]
    }
   ],
   "source": [
    "for link in soup.find_all('a'):\n",
    "    #print(link.get('href'))\n",
    "# not for use"
   ]
  },
  {
   "cell_type": "code",
   "execution_count": 12,
   "id": "5eccc81c-73a1-4e95-bb92-dcd285089cf1",
   "metadata": {},
   "outputs": [],
   "source": [
    "main_div = soup.find(class_='generic-car-widgets-container')"
   ]
  },
  {
   "cell_type": "code",
   "execution_count": 18,
   "id": "0cb1a523-6482-487e-b3e4-2a6513700b3b",
   "metadata": {},
   "outputs": [
    {
     "data": {
      "text/plain": [
       "4"
      ]
     },
     "execution_count": 18,
     "metadata": {},
     "output_type": "execute_result"
    }
   ],
   "source": [
    "new_audi_container = soup.find(class_='generic-car-widgets-container')\n",
    "car_li = new_audi_container.find_all(class_='col-md-3')\n",
    "len(car_li)"
   ]
  },
  {
   "cell_type": "code",
   "execution_count": 23,
   "id": "cfd9c53d-7702-4041-8487-f0b62bc48f1e",
   "metadata": {},
   "outputs": [
    {
     "name": "stdout",
     "output_type": "stream",
     "text": [
      "/new-cars/audi/q2/\n"
     ]
    }
   ],
   "source": [
    "for car_url in car_li:\n",
    "    link = car_url.find('a')\n",
    "    print(link.get('href'))\n",
    "    #print(car_url.text)\n",
    "    break"
   ]
  },
  {
   "cell_type": "code",
   "execution_count": 27,
   "id": "e26acb33-9202-4aa3-9a65-9a0b95533e70",
   "metadata": {},
   "outputs": [],
   "source": [
    "urls = []\n",
    "for car_url in car_li:\n",
    "    tag = car_url.find('a')\n",
    "    link = 'https://www.pakwheels.com' + tag.get('href')\n",
    "    urls.append(link)"
   ]
  },
  {
   "cell_type": "code",
   "execution_count": 28,
   "id": "3c6bfaa1-8896-4f2f-852c-73b601158676",
   "metadata": {},
   "outputs": [
    {
     "data": {
      "text/plain": [
       "['https://www.pakwheels.com/new-cars/audi/q2/',\n",
       " 'https://www.pakwheels.com/new-cars/audi/q8-e-tron/',\n",
       " 'https://www.pakwheels.com/new-cars/audi/e-tron/',\n",
       " 'https://www.pakwheels.com/new-cars/audi/e-tron-gt/']"
      ]
     },
     "execution_count": 28,
     "metadata": {},
     "output_type": "execute_result"
    }
   ],
   "source": [
    "urls"
   ]
  },
  {
   "cell_type": "code",
   "execution_count": 32,
   "id": "78fb7903-587d-4c5d-995b-acdee7fdd0bc",
   "metadata": {},
   "outputs": [],
   "source": [
    "urls = []\n",
    "audi_containers = soup.find_all(class_='generic-car-widgets-container')\n",
    "for audi_container in audi_containers:\n",
    "    car_li = audi_container.find_all(class_='col-md-3')\n",
    "    for car_url in car_li:\n",
    "        tag = car_url.find('a')\n",
    "        link = 'https://www.pakwheels.com' + tag.get('href')\n",
    "        urls.append(link)"
   ]
  },
  {
   "cell_type": "code",
   "execution_count": 34,
   "id": "4ebdf096-1d5e-4e88-8b81-f72c32be6296",
   "metadata": {},
   "outputs": [
    {
     "data": {
      "text/plain": [
       "19"
      ]
     },
     "execution_count": 34,
     "metadata": {},
     "output_type": "execute_result"
    }
   ],
   "source": [
    "len(urls)"
   ]
  },
  {
   "cell_type": "code",
   "execution_count": 42,
   "id": "d8f710d9-f498-407c-bdae-81f04c9acf35",
   "metadata": {},
   "outputs": [
    {
     "ename": "AttributeError",
     "evalue": "'Response' object has no attribute 'get'",
     "output_type": "error",
     "traceback": [
      "\u001b[1;31m---------------------------------------------------------------------------\u001b[0m",
      "\u001b[1;31mAttributeError\u001b[0m                            Traceback (most recent call last)",
      "Cell \u001b[1;32mIn[42], line 2\u001b[0m\n\u001b[0;32m      1\u001b[0m \u001b[38;5;66;03m#'https://www.pakwheels.com/new-cars/audi/q2/'\u001b[39;00m\n\u001b[1;32m----> 2\u001b[0m request \u001b[38;5;241m=\u001b[39m requests\u001b[38;5;241m.\u001b[39mget(urls[\u001b[38;5;241m0\u001b[39m])\n\u001b[0;32m      3\u001b[0m soup \u001b[38;5;241m=\u001b[39m BeautifulSoup(request\u001b[38;5;241m.\u001b[39mcontent, \u001b[38;5;124m'\u001b[39m\u001b[38;5;124mhtml.parser\u001b[39m\u001b[38;5;124m'\u001b[39m)\n",
      "\u001b[1;31mAttributeError\u001b[0m: 'Response' object has no attribute 'get'"
     ]
    }
   ],
   "source": [
    "#'https://www.pakwheels.com/new-cars/audi/q2/'\n",
    "request = requests.get(urls[0])\n",
    "soup = BeautifulSoup(request.content, 'html.parser')"
   ]
  },
  {
   "cell_type": "code",
   "execution_count": 36,
   "id": "a71e57b7-c420-49ca-9eb2-694c4a35bcdd",
   "metadata": {},
   "outputs": [
    {
     "data": {
      "text/plain": [
       "'data:image/png;base64,R0lGODlhAQABAAD/ACwAAAAAAQABAAACADs%3D'"
      ]
     },
     "execution_count": 36,
     "metadata": {},
     "output_type": "execute_result"
    }
   ],
   "source": [
    "image_url = soup.find('img',class_='lazy')\n",
    "image_url.get('src')"
   ]
  },
  {
   "cell_type": "code",
   "execution_count": 43,
   "id": "d321e9d0-4899-47b9-b935-05825b8ad2a8",
   "metadata": {},
   "outputs": [
    {
     "ename": "AttributeError",
     "evalue": "'NoneType' object has no attribute 'text'",
     "output_type": "error",
     "traceback": [
      "\u001b[1;31m---------------------------------------------------------------------------\u001b[0m",
      "\u001b[1;31mAttributeError\u001b[0m                            Traceback (most recent call last)",
      "Cell \u001b[1;32mIn[43], line 2\u001b[0m\n\u001b[0;32m      1\u001b[0m price \u001b[38;5;241m=\u001b[39m soup\u001b[38;5;241m.\u001b[39mfind(class_\u001b[38;5;241m=\u001b[39m\u001b[38;5;124m'\u001b[39m\u001b[38;5;124mfs22\u001b[39m\u001b[38;5;124m'\u001b[39m)\n\u001b[1;32m----> 2\u001b[0m price\u001b[38;5;241m.\u001b[39mtext\n",
      "\u001b[1;31mAttributeError\u001b[0m: 'NoneType' object has no attribute 'text'"
     ]
    }
   ],
   "source": [
    "price = soup.find(class_='fs22')\n",
    "price.text"
   ]
  },
  {
   "cell_type": "code",
   "execution_count": 45,
   "id": "d0f9f2be-ec2f-4e26-94be-c5e253e1d957",
   "metadata": {},
   "outputs": [
    {
     "ename": "AttributeError",
     "evalue": "'NoneType' object has no attribute 'find_all'",
     "output_type": "error",
     "traceback": [
      "\u001b[1;31m---------------------------------------------------------------------------\u001b[0m",
      "\u001b[1;31mAttributeError\u001b[0m                            Traceback (most recent call last)",
      "Cell \u001b[1;32mIn[45], line 2\u001b[0m\n\u001b[0;32m      1\u001b[0m table \u001b[38;5;241m=\u001b[39m soup\u001b[38;5;241m.\u001b[39mfind(\u001b[38;5;124m'\u001b[39m\u001b[38;5;124mtable\u001b[39m\u001b[38;5;124m'\u001b[39m,class_\u001b[38;5;241m=\u001b[39m\u001b[38;5;124m'\u001b[39m\u001b[38;5;124mtable bike-version-detailscont\u001b[39m\u001b[38;5;124m'\u001b[39m)\n\u001b[1;32m----> 2\u001b[0m table_rows \u001b[38;5;241m=\u001b[39m table\u001b[38;5;241m.\u001b[39mfind_all(\u001b[38;5;124m'\u001b[39m\u001b[38;5;124mtr\u001b[39m\u001b[38;5;124m'\u001b[39m)\n\u001b[0;32m      3\u001b[0m \u001b[38;5;28;01mfor\u001b[39;00m data \u001b[38;5;129;01min\u001b[39;00m table_rows:\n\u001b[0;32m      4\u001b[0m     table_data \u001b[38;5;241m=\u001b[39m data\u001b[38;5;241m.\u001b[39mfind_all(\u001b[38;5;124m'\u001b[39m\u001b[38;5;124mtd\u001b[39m\u001b[38;5;124m'\u001b[39m)\n",
      "\u001b[1;31mAttributeError\u001b[0m: 'NoneType' object has no attribute 'find_all'"
     ]
    }
   ],
   "source": [
    "table = soup.find('table',class_='table bike-version-detailscont')\n",
    "table_rows = table.find_all('tr')\n",
    "for data in table_rows:\n",
    "    table_data = data.find_all('td')\n",
    "    key = table_data[0].text.strip()\n",
    "    value = table_data[1].text.strip()\n",
    "    print(key,\":\",value)"
   ]
  },
  {
   "cell_type": "code",
   "execution_count": null,
   "id": "20f90e85-66a1-423c-b803-d5739723e983",
   "metadata": {},
   "outputs": [],
   "source": []
  }
 ],
 "metadata": {
  "kernelspec": {
   "display_name": "Python 3 (ipykernel)",
   "language": "python",
   "name": "python3"
  },
  "language_info": {
   "codemirror_mode": {
    "name": "ipython",
    "version": 3
   },
   "file_extension": ".py",
   "mimetype": "text/x-python",
   "name": "python",
   "nbconvert_exporter": "python",
   "pygments_lexer": "ipython3",
   "version": "3.11.10"
  }
 },
 "nbformat": 4,
 "nbformat_minor": 5
}
