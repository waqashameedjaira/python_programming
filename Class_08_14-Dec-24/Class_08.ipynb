{
 "cells": [
  {
   "cell_type": "markdown",
   "id": "7ca092e0-ecd3-45f0-84c0-f93a163f58dd",
   "metadata": {},
   "source": [
    "### fuctions syntax"
   ]
  },
  {
   "cell_type": "markdown",
   "id": "700a66ab-c4e3-4622-9e74-a4787ed5f5e4",
   "metadata": {},
   "source": [
    "# def <fuction-name> (<parameters>):\n",
    "        <body>"
   ]
  },
  {
   "cell_type": "code",
   "execution_count": 2,
   "id": "7edf74f3-5fbf-47ca-b4c9-dd20a73e0a3a",
   "metadata": {},
   "outputs": [],
   "source": [
    "def greet_sylani():\n",
    "    print(\"welcome to saylani ZA it park\")\n"
   ]
  },
  {
   "cell_type": "code",
   "execution_count": 3,
   "id": "24a1d886-36a2-431c-a5ac-8607296dbc64",
   "metadata": {},
   "outputs": [
    {
     "name": "stdout",
     "output_type": "stream",
     "text": [
      "welcome to saylani ZA it park\n"
     ]
    }
   ],
   "source": [
    "greet_sylani()"
   ]
  },
  {
   "cell_type": "code",
   "execution_count": 4,
   "id": "c35ab640-938e-456e-97ff-09a4b75c36fe",
   "metadata": {},
   "outputs": [],
   "source": [
    "#fuction: Passing them information"
   ]
  },
  {
   "cell_type": "code",
   "execution_count": 5,
   "id": "6c2b7779-1aa0-49b4-ad05-8e3b01fd421b",
   "metadata": {},
   "outputs": [],
   "source": [
    "def addition(num1, num2):\n",
    "    sum = num1 "
   ]
  },
  {
   "cell_type": "code",
   "execution_count": 8,
   "id": "a3df14c3-eead-4b5c-af5f-0e3ac5a3b0cf",
   "metadata": {},
   "outputs": [],
   "source": [
    "\n",
    "def string():\n",
    "    print(string)\n",
    "    "
   ]
  },
  {
   "cell_type": "code",
   "execution_count": 10,
   "id": "a4dfedfe-6a8f-45cd-8e0d-77b778f9bff8",
   "metadata": {},
   "outputs": [
    {
     "name": "stdout",
     "output_type": "stream",
     "text": [
      "<function string at 0x0000024FB936DDA0>\n"
     ]
    }
   ],
   "source": [
    "string(\"Helo hi\")"
   ]
  },
  {
   "cell_type": "code",
   "execution_count": 14,
   "id": "d5d085c7-9033-4aa1-9a0e-f9dfb7489c0f",
   "metadata": {},
   "outputs": [
    {
     "name": "stdout",
     "output_type": "stream",
     "text": [
      " upper 4 and lower 14\n"
     ]
    }
   ],
   "source": [
    "def hello(a = \"Welcome to Saylani\"):\n",
    "    upper = 0\n",
    "    lower = 0\n",
    "    for i in a:\n",
    "        if i == i.upper():\n",
    "            upper = upper + 1\n",
    "        else:\n",
    "            lower = lower + 1\n",
    "    print(f\" upper {upper} and lower {lower}\")\n",
    "hello()"
   ]
  },
  {
   "cell_type": "code",
   "execution_count": 15,
   "id": "7d1c5d97-8a7d-43dd-9117-b8c00e192908",
   "metadata": {},
   "outputs": [],
   "source": [
    "def display_result(winner, score, **kwargs):\n",
    "    print(\"the winner is \" + winner)\n",
    "    print(\"the score is \" + score)\n",
    "    print(kwargs)"
   ]
  },
  {
   "cell_type": "code",
   "execution_count": 17,
   "id": "7b7abf70-8f3d-4110-b161-c6b27771c589",
   "metadata": {},
   "outputs": [
    {
     "name": "stdout",
     "output_type": "stream",
     "text": [
      "the winner is Pakistan\n",
      "the score is 5\n",
      "{'injuies': '3'}\n"
     ]
    }
   ],
   "source": [
    "display_result(winner = \"Pakistan\", score = \"5\", injuies = \"3\")"
   ]
  },
  {
   "cell_type": "code",
   "execution_count": 18,
   "id": "344c195b-105b-4e03-8821-58c2b225a40b",
   "metadata": {},
   "outputs": [],
   "source": [
    "def display_result(winner, score, *args):\n",
    "    print(\"the winner is \" + winner)\n",
    "    print(\"the score is \" + score)\n",
    "    print(args)"
   ]
  },
  {
   "cell_type": "code",
   "execution_count": 23,
   "id": "93b72da1-c3ae-46ae-8ecd-f67c9fd78601",
   "metadata": {},
   "outputs": [
    {
     "name": "stdout",
     "output_type": "stream",
     "text": [
      "the winner is Pakistan\n",
      "the score is 5\n",
      "('3',)\n"
     ]
    }
   ],
   "source": [
    "display_result(\"Pakistan\",\"5\",\"3\")"
   ]
  },
  {
   "cell_type": "code",
   "execution_count": 27,
   "id": "3d08b955-24e2-497d-919d-e3eb781d004a",
   "metadata": {},
   "outputs": [
    {
     "name": "stdout",
     "output_type": "stream",
     "text": [
      "Qasim mehmood 20\n"
     ]
    }
   ],
   "source": [
    "# positional arguments\n",
    "\n",
    "#name = \"Qasim\", \"Hassan\", age = 20\n",
    "\n",
    "def details(last_name, first_name = \"Qasim\", age = 20):\n",
    "    print(first_name, last_name, age)\n",
    "\n",
    "details(\"mehmood\")"
   ]
  },
  {
   "cell_type": "markdown",
   "id": "6a01a41f-ec47-46a7-9c05-59becad77ac6",
   "metadata": {},
   "source": [
    "### notes:\n",
    "- key-word arguments will always be at last.\n",
    "- if we have last agument as *args before that we can't use keyword agruments.\n",
    "- "
   ]
  },
  {
   "cell_type": "code",
   "execution_count": null,
   "id": "a01d1d7d-d431-4dd9-bbe8-8874c4a7d264",
   "metadata": {},
   "outputs": [],
   "source": [
    "sample_list = (8,2,3,-1,7)"
   ]
  },
  {
   "cell_type": "code",
   "execution_count": 28,
   "id": "a86242ae-b770-42c9-aaf3-277e69ebb1e8",
   "metadata": {},
   "outputs": [
    {
     "name": "stdout",
     "output_type": "stream",
     "text": [
      "8\n",
      "16\n",
      "48\n",
      "-48\n",
      "-336\n"
     ]
    }
   ],
   "source": [
    "def multiply(n):\n",
    "    value = 1\n",
    "    for i in n:\n",
    "        value = value * i\n",
    "        print(value)\n",
    "        \n",
    "multiply([8,2,3,-1,7])"
   ]
  },
  {
   "cell_type": "code",
   "execution_count": 29,
   "id": "8c59b7ba-9dc8-4f52-acd5-577ea3a5afe1",
   "metadata": {},
   "outputs": [
    {
     "data": {
      "text/plain": [
       "'dcba4321'"
      ]
     },
     "execution_count": 29,
     "metadata": {},
     "output_type": "execute_result"
    }
   ],
   "source": [
    "def my_str(str):\n",
    "    return str[::-1]\n",
    "my_str(\"1234abcd\")"
   ]
  },
  {
   "cell_type": "markdown",
   "id": "d03196c8-3124-4676-bd12-292a8b42796b",
   "metadata": {},
   "source": [
    "### Fuctions: Local vs. global variables"
   ]
  },
  {
   "cell_type": "code",
   "execution_count": 32,
   "id": "36f8bef0-8360-426b-9e29-f24a40d14fd8",
   "metadata": {},
   "outputs": [
    {
     "name": "stdout",
     "output_type": "stream",
     "text": [
      "Qasim\n"
     ]
    },
    {
     "ename": "NameError",
     "evalue": "name 'f_name' is not defined",
     "output_type": "error",
     "traceback": [
      "\u001b[1;31m---------------------------------------------------------------------------\u001b[0m",
      "\u001b[1;31mNameError\u001b[0m                                 Traceback (most recent call last)",
      "Cell \u001b[1;32mIn[32], line 6\u001b[0m\n\u001b[0;32m      4\u001b[0m     \u001b[38;5;28mprint\u001b[39m(f_name)\n\u001b[0;32m      5\u001b[0m details()\n\u001b[1;32m----> 6\u001b[0m f_name\n",
      "\u001b[1;31mNameError\u001b[0m: name 'f_name' is not defined"
     ]
    }
   ],
   "source": [
    "def details():\n",
    "    f_name = \"Qasim\"\n",
    "    l_name = \"Hassan\"\n",
    "    print(f_name)\n",
    "details()\n",
    "f_name"
   ]
  },
  {
   "cell_type": "code",
   "execution_count": 33,
   "id": "3bbd2915-3f7a-4abe-9cd9-a6b6df77bdd4",
   "metadata": {},
   "outputs": [
    {
     "name": "stdout",
     "output_type": "stream",
     "text": [
      "Qasim\n"
     ]
    },
    {
     "data": {
      "text/plain": [
       "'Qasim'"
      ]
     },
     "execution_count": 33,
     "metadata": {},
     "output_type": "execute_result"
    }
   ],
   "source": [
    "f_name = \"Qasim\"\n",
    "def details():\n",
    "    l_name = \"Hassan\"\n",
    "    print(f_name)\n",
    "details()\n",
    "f_name"
   ]
  },
  {
   "cell_type": "code",
   "execution_count": 37,
   "id": "430e1864-df38-4c74-aeb8-8a5af35df709",
   "metadata": {},
   "outputs": [
    {
     "name": "stdout",
     "output_type": "stream",
     "text": [
      "Qasim\n"
     ]
    },
    {
     "data": {
      "text/plain": [
       "'Qasim'"
      ]
     },
     "execution_count": 37,
     "metadata": {},
     "output_type": "execute_result"
    }
   ],
   "source": [
    "def details():\n",
    "    global f_name\n",
    "    f_name = \"Qasim\"\n",
    "    l_name = \"Hassan\"\n",
    "    print(f_name)\n",
    "details()\n",
    "f_name"
   ]
  },
  {
   "cell_type": "markdown",
   "id": "1b8ca60d-87d9-4317-9fe2-aad49c971ef4",
   "metadata": {},
   "source": [
    "### Fuctions with in fuctions"
   ]
  },
  {
   "cell_type": "markdown",
   "id": "7051dc41-f1ae-4887-8ac7-54984b94b7ed",
   "metadata": {},
   "source": [
    "# write a function that first detect even/odd and if numner is even then it takes the factorial of it."
   ]
  },
  {
   "cell_type": "code",
   "execution_count": 39,
   "id": "a1fbd613-0bb5-47f3-b7b0-355f98cb2b46",
   "metadata": {},
   "outputs": [],
   "source": [
    "def fac(n):\n",
    "    if(n %2 == 0):\n",
    "        return n*n-1\n",
    "    else:\n",
    "        return \"number is odd\""
   ]
  },
  {
   "cell_type": "code",
   "execution_count": 40,
   "id": "8e9ba0ac-fb65-4309-a9ac-de8ff92fc3bd",
   "metadata": {},
   "outputs": [
    {
     "data": {
      "text/plain": [
       "195"
      ]
     },
     "execution_count": 40,
     "metadata": {},
     "output_type": "execute_result"
    }
   ],
   "source": [
    "fac(14)"
   ]
  },
  {
   "cell_type": "code",
   "execution_count": 41,
   "id": "0b0bb1ac-a415-4bbe-915b-98f3d216a825",
   "metadata": {},
   "outputs": [
    {
     "ename": "SyntaxError",
     "evalue": "unterminated string literal (detected at line 5) (996481963.py, line 5)",
     "output_type": "error",
     "traceback": [
      "\u001b[1;36m  Cell \u001b[1;32mIn[41], line 5\u001b[1;36m\u001b[0m\n\u001b[1;33m    return f\"the number is even and factorial is {fa}\u001b[0m\n\u001b[1;37m           ^\u001b[0m\n\u001b[1;31mSyntaxError\u001b[0m\u001b[1;31m:\u001b[0m unterminated string literal (detected at line 5)\n"
     ]
    }
   ],
   "source": [
    "def fac(num):\n",
    "    fa = 1\n",
    "    for i in range(1, num + 1):\n",
    "        fa*= 1\n",
    "    return f\"the number is even and factorial is {fa}\"\n",
    "\n",
    "def evenodd(num):\n",
    "    "
   ]
  },
  {
   "cell_type": "markdown",
   "id": "891018c0-73d8-4248-bcfb-02e41ef65c56",
   "metadata": {},
   "source": [
    "## while loop"
   ]
  },
  {
   "cell_type": "markdown",
   "id": "033dd6fa-6c57-4331-894d-0d2ebc69f840",
   "metadata": {},
   "source": [
    "### syntax: \n",
    "---------\n",
    "\n",
    "while <cond is not true>:\n",
    "    <execute body>"
   ]
  },
  {
   "cell_type": "code",
   "execution_count": null,
   "id": "7860f779-c364-4537-b526-71971cd2fb66",
   "metadata": {},
   "outputs": [],
   "source": []
  },
  {
   "cell_type": "code",
   "execution_count": 1,
   "id": "6db4b492-0860-491b-99ac-319111d8542f",
   "metadata": {},
   "outputs": [],
   "source": [
    "def fuction():\n",
    "    print(\"my first function\")"
   ]
  },
  {
   "cell_type": "code",
   "execution_count": 2,
   "id": "40164f64-c9e3-4eb1-ad9b-2d4497a86a73",
   "metadata": {},
   "outputs": [
    {
     "name": "stdout",
     "output_type": "stream",
     "text": [
      "my first function\n"
     ]
    }
   ],
   "source": [
    "fuction()"
   ]
  },
  {
   "cell_type": "code",
   "execution_count": 10,
   "id": "680f7ea2-462c-4ae9-ac2d-e1d702776c65",
   "metadata": {},
   "outputs": [],
   "source": [
    "def add(num1, num2):\n",
    "    print(num1 + num2)"
   ]
  },
  {
   "cell_type": "code",
   "execution_count": 11,
   "id": "69e5d344-13da-45ef-9fa6-621fe4706269",
   "metadata": {},
   "outputs": [
    {
     "name": "stdout",
     "output_type": "stream",
     "text": [
      "9\n"
     ]
    }
   ],
   "source": [
    "add(5,4)"
   ]
  },
  {
   "cell_type": "code",
   "execution_count": 16,
   "id": "8057b564-c8ca-4d33-97c0-e7b0275ed9af",
   "metadata": {},
   "outputs": [
    {
     "name": "stdout",
     "output_type": "stream",
     "text": [
      "4\n"
     ]
    }
   ],
   "source": [
    "def sub(num1 = 0, num2 = 0):\n",
    "    print(num1 - num2)\n",
    "sub(5-1)"
   ]
  },
  {
   "cell_type": "code",
   "execution_count": 19,
   "id": "184abb32-ed1e-435b-bc89-4dbc7cd570fa",
   "metadata": {},
   "outputs": [
    {
     "name": "stdout",
     "output_type": "stream",
     "text": [
      "115.0\n"
     ]
    }
   ],
   "source": [
    "def cal(salary, bonus = 0.15):\n",
    "    new_salary = (salary) + (salary*bonus)\n",
    "    print(new_salary)\n",
    "\n",
    "cal(100)"
   ]
  },
  {
   "cell_type": "code",
   "execution_count": 24,
   "id": "a5968e40-9500-4a77-9328-af905c5c64dd",
   "metadata": {},
   "outputs": [
    {
     "name": "stdout",
     "output_type": "stream",
     "text": [
      "0\n",
      "1\n",
      "W\n",
      "1\n",
      "1\n",
      "a\n",
      "2\n",
      "1\n",
      "q\n",
      "3\n",
      "1\n",
      "a\n",
      "4\n",
      "1\n",
      "s\n"
     ]
    }
   ],
   "source": [
    "def text(a):\n",
    "    upper = 0\n",
    "    lower = 0\n",
    "    for i in a:\n",
    "        if i >= \"a\" and i <= \"z\":\n",
    "            upper += 1\n",
    "        elif i >= \"A\" and i <= \"Z\":\n",
    "            lower += 1\n",
    "        else:\n",
    "            print(a)\n",
    "        print(upper)\n",
    "        print(lower)\n",
    "            \n",
    "        print(i)\n",
    "\n",
    "text(\"Waqas\")"
   ]
  },
  {
   "cell_type": "markdown",
   "id": "bc9dc157-da0d-4894-8533-9d4eea75fa2d",
   "metadata": {},
   "source": [
    "def count(i):\n",
    "    upper=0\n",
    "    lower=0\n",
    "    for char in i:\n",
    "        if char.isupper():\n",
    "            upper +=1\n",
    "        elif char.islower():\n",
    "            lower +=1\n",
    "\n",
    "    print(upper)\n",
    "    print(lower)\n",
    "    \n",
    "count(\"The Quick Brown Fox\")"
   ]
  },
  {
   "cell_type": "code",
   "execution_count": 27,
   "id": "4a3816db-10db-4a21-8dfc-06700093470f",
   "metadata": {},
   "outputs": [],
   "source": [
    "def upperlower(i):\n",
    "    upper = 0\n",
    "    lower = 0\n",
    "    for text in i:\n",
    "        if text.isupper():\n",
    "            upper +=1\n",
    "        elif text.islower():\n",
    "            lower +=1\n",
    "    print(upper)\n",
    "    print(lower)"
   ]
  },
  {
   "cell_type": "code",
   "execution_count": 28,
   "id": "787b546d-56a3-440e-beac-142463e7c0ed",
   "metadata": {},
   "outputs": [
    {
     "name": "stdout",
     "output_type": "stream",
     "text": [
      "3\n",
      "10\n"
     ]
    }
   ],
   "source": [
    "upperlower(\"My Name is Waqas\")"
   ]
  },
  {
   "cell_type": "code",
   "execution_count": 32,
   "id": "4e47601c-4fd7-4d65-9cec-9ec49df5e581",
   "metadata": {},
   "outputs": [],
   "source": [
    "def checkcase(n):\n",
    "    upper = 0\n",
    "    lower = 0\n",
    "    for i in n:\n",
    "        if i.isupper():\n",
    "            upper += 1\n",
    "        elif i.islower():\n",
    "            lower += 1\n",
    "    print(upper)\n",
    "    print(lower)"
   ]
  },
  {
   "cell_type": "code",
   "execution_count": 33,
   "id": "1230f70b-0cf7-497d-881b-e4232c1a6a97",
   "metadata": {},
   "outputs": [
    {
     "name": "stdout",
     "output_type": "stream",
     "text": [
      "1\n",
      "7\n"
     ]
    }
   ],
   "source": [
    "checkcase(\"Hello mhu\")"
   ]
  },
  {
   "cell_type": "code",
   "execution_count": 34,
   "id": "46c6e456-9136-47b2-b0d8-2b7265a1002d",
   "metadata": {},
   "outputs": [
    {
     "ename": "SyntaxError",
     "evalue": "invalid syntax. Perhaps you forgot a comma? (325442883.py, line 2)",
     "output_type": "error",
     "traceback": [
      "\u001b[1;36m  Cell \u001b[1;32mIn[34], line 2\u001b[1;36m\u001b[0m\n\u001b[1;33m    print(\"winner is \" winner \"score is \" score)\u001b[0m\n\u001b[1;37m          ^\u001b[0m\n\u001b[1;31mSyntaxError\u001b[0m\u001b[1;31m:\u001b[0m invalid syntax. Perhaps you forgot a comma?\n"
     ]
    }
   ],
   "source": [
    "def display_result(winner, score):\n",
    "    print(\"winner is \" winner, \"score is \" score)"
   ]
  },
  {
   "cell_type": "code",
   "execution_count": null,
   "id": "6a2f555b-6760-46f0-a235-2503dae1b109",
   "metadata": {},
   "outputs": [],
   "source": []
  }
 ],
 "metadata": {
  "kernelspec": {
   "display_name": "Python 3 (ipykernel)",
   "language": "python",
   "name": "python3"
  },
  "language_info": {
   "codemirror_mode": {
    "name": "ipython",
    "version": 3
   },
   "file_extension": ".py",
   "mimetype": "text/x-python",
   "name": "python",
   "nbconvert_exporter": "python",
   "pygments_lexer": "ipython3",
   "version": "3.11.10"
  }
 },
 "nbformat": 4,
 "nbformat_minor": 5
}
