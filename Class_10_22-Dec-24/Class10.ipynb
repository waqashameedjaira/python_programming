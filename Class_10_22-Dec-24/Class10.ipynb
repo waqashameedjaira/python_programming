{
 "cells": [
  {
   "cell_type": "markdown",
   "id": "116a999c-6611-402a-be01-d08d9981128d",
   "metadata": {},
   "source": [
    "# Class"
   ]
  },
  {
   "cell_type": "code",
   "execution_count": null,
   "id": "f39cc6db-8a21-4e68-a8dd-7bed36ba11d1",
   "metadata": {},
   "outputs": [],
   "source": []
  },
  {
   "cell_type": "code",
   "execution_count": null,
   "id": "bb713ad0-adac-4706-9106-66ce062a3dc7",
   "metadata": {},
   "outputs": [],
   "source": []
  },
  {
   "cell_type": "code",
   "execution_count": 23,
   "id": "50739ead-1b8d-483b-8044-f8c7fe553ff4",
   "metadata": {},
   "outputs": [],
   "source": [
    "class Vehicles():\n",
    "    def __init__(self, color, model, make, price, brand):  #\n",
    "        self.color = color\n",
    "        self.model = model\n",
    "        self.make = make\n",
    "        self.price = price\n",
    "        self.brand = brand\n",
    "       # self.discount = 0.1 # static variables\n",
    "\n",
    "    def details(self):\n",
    "        prints(f\" brand : {self.brand}\\\n",
    "        model : {self.model}\\\n",
    "        color : {self.color}\\\n",
    "        price : {self.price}.\")\n",
    "    def moving(self):\n",
    "        print(f\"{self.brand} is a type of vehicle and can be used for travelling.\")"
   ]
  },
  {
   "cell_type": "code",
   "execution_count": 25,
   "id": "77d3dd6e-1fe7-478d-b188-98022dac760d",
   "metadata": {},
   "outputs": [],
   "source": [
    "toyota = Vehicles(\"white\",\"Grande\", 70,\"brand\", \"Toyota\") #initialize"
   ]
  },
  {
   "cell_type": "code",
   "execution_count": 26,
   "id": "1f22d60d-9579-4fc4-a68d-e24dab31f86e",
   "metadata": {},
   "outputs": [
    {
     "name": "stdout",
     "output_type": "stream",
     "text": [
      "<class '__main__.Vehicles'>\n"
     ]
    }
   ],
   "source": [
    "print(type(toyota))"
   ]
  },
  {
   "cell_type": "code",
   "execution_count": 27,
   "id": "5233422e-6b6b-4db5-9216-4eb11aca0a87",
   "metadata": {},
   "outputs": [
    {
     "name": "stdout",
     "output_type": "stream",
     "text": [
      "<__main__.Vehicles object at 0x0000029B2B796690>\n"
     ]
    }
   ],
   "source": [
    "print(toyota)"
   ]
  },
  {
   "cell_type": "code",
   "execution_count": 33,
   "id": "a2dda647-8595-4dde-9b19-8f2adc42cd0c",
   "metadata": {},
   "outputs": [],
   "source": [
    "class person():\n",
    "    def __init__ (self, hair, eyes, skin, height, weight):\n",
    "        self.hair = hair\n",
    "        self.eyes = eyes\n",
    "        self.skin = skin\n",
    "        self.height = height\n",
    "        self.weight = weight\n",
    "    def eat(self):\n",
    "        print(\"Eating\")\n",
    "    def sleep(self):\n",
    "        print(\"Sleeping\")\n",
    "    def walk(self):\n",
    "        print(\"walking\")\n",
    "    def play(self):\n",
    "        print(\"playing\")\n",
    "    def study(self):\n",
    "        print(\"studing\")\n",
    "    def details(self):\n",
    "        print(f\" waqas has {self.hair}, \\n {self.eyes} eyes, \\n {self.skin} skin color, \\n {self.height} height, \\n {self.weight} weight\")\n",
    "\n",
    "waqas = person(\"black\",\"brown\", \"black\", \"5.10\", 65)"
   ]
  },
  {
   "cell_type": "code",
   "execution_count": 36,
   "id": "3cc6d702-997b-4259-86a4-a95ab026a001",
   "metadata": {},
   "outputs": [
    {
     "name": "stdout",
     "output_type": "stream",
     "text": [
      " waqas has black, \n",
      " brown eyes, \n",
      " black skin color, \n",
      " 5.10 height, \n",
      " 65 weight\n"
     ]
    }
   ],
   "source": [
    "waqas.details()"
   ]
  },
  {
   "cell_type": "code",
   "execution_count": 43,
   "id": "3fd97348-e8cc-4962-a134-30ac683c24d6",
   "metadata": {},
   "outputs": [],
   "source": [
    "class person():\n",
    "    # class variables \\static\n",
    "    name = \"Waqas\"\n",
    "    def __init__ (self, hair, eyes, skin, height, weight):\n",
    "        self.hair = hair\n",
    "        self.eyes = eyes\n",
    "        self.skin = skin\n",
    "        self.height = height\n",
    "        self.weight = weight\n",
    "    def eat(self):\n",
    "        print(\"Eating\")\n",
    "    def sleep(self):\n",
    "        print(\"Sleeping\")\n",
    "    def walk(self):\n",
    "        print(\"walking\")\n",
    "    def play(self):\n",
    "        print(\"playing\")\n",
    "    def study(self):\n",
    "        print(\"studing\")\n",
    "    def details(self):\n",
    "        print(f\" {person.name} has {self.hair}, \\n {self.eyes} eyes, \\n {self.skin} skin color, \\n {self.height} height, \\n {self.weight} weight\")\n",
    "\n",
    "waqas = person(\"black\",\"brown\", \"black\", \"5.10\", 65)"
   ]
  },
  {
   "cell_type": "code",
   "execution_count": 44,
   "id": "e1f97726-d91e-4ebb-9276-ee598b15e67b",
   "metadata": {},
   "outputs": [
    {
     "name": "stdout",
     "output_type": "stream",
     "text": [
      " Waqas has black, \n",
      " brown eyes, \n",
      " black skin color, \n",
      " 5.10 height, \n",
      " 65 weight\n"
     ]
    }
   ],
   "source": [
    "waqas.details()"
   ]
  },
  {
   "cell_type": "code",
   "execution_count": 45,
   "id": "0628b5fc-ae00-4533-a941-61d1e3e0ff5b",
   "metadata": {},
   "outputs": [
    {
     "data": {
      "text/plain": [
       "'Waqas'"
      ]
     },
     "execution_count": 45,
     "metadata": {},
     "output_type": "execute_result"
    }
   ],
   "source": [
    "waqas.name"
   ]
  },
  {
   "cell_type": "code",
   "execution_count": 46,
   "id": "ad33b898-7bd8-47fe-a963-6eba26448522",
   "metadata": {},
   "outputs": [
    {
     "name": "stdout",
     "output_type": "stream",
     "text": [
      " Waqas has black, \n",
      " brown eyes, \n",
      " black skin color, \n",
      " 5.10 height, \n",
      " 65 weight\n"
     ]
    }
   ],
   "source": [
    "class person():\n",
    "    # class variables \\static\n",
    "    name = \"\"\n",
    "    def __init__ (self, hair, eyes, skin, height, weight, name = \"Waqas\"):\n",
    "        self.hair = hair\n",
    "        self.eyes = eyes\n",
    "        self.skin = skin\n",
    "        self.height = height\n",
    "        self.weight = weight\n",
    "        person.name = name\n",
    "    def eat(self):\n",
    "        print(\"Eating\")\n",
    "    def sleep(self):\n",
    "        print(\"Sleeping\")\n",
    "    def walk(self):\n",
    "        print(\"walking\")\n",
    "    def play(self):\n",
    "        print(\"playing\")\n",
    "    def study(self):\n",
    "        print(\"studing\")\n",
    "    def details(self):\n",
    "        print(f\" {person.name} has {self.hair}, \\n {self.eyes} eyes, \\n {self.skin} skin color, \\n {self.height} height, \\n {self.weight} weight\")\n",
    "\n",
    "waqas = person(\"black\",\"brown\", \"black\", \"5.10\", 65)\n",
    "\n",
    "waqas.details()"
   ]
  },
  {
   "cell_type": "code",
   "execution_count": 47,
   "id": "0cc59559-2a35-4f09-b19a-ce56ba3ec489",
   "metadata": {},
   "outputs": [
    {
     "name": "stdout",
     "output_type": "stream",
     "text": [
      " Waqass has black, \n",
      " brown eyes, \n",
      " black skin color, \n",
      " 5.10 height, \n",
      " 65 weight\n"
     ]
    }
   ],
   "source": [
    "class person():\n",
    "    # class variables \\static\n",
    "    name = \"Waqass\"\n",
    "    def __init__ (self, hair, eyes, skin, height, weight,):\n",
    "        self.hair = hair\n",
    "        self.eyes = eyes\n",
    "        self.skin = skin\n",
    "        self.height = height\n",
    "        self.weight = weight\n",
    "    def update_name(self, name):\n",
    "        person.name = name\n",
    "    def eat(self):\n",
    "        print(\"Eating\")\n",
    "    def sleep(self):\n",
    "        print(\"Sleeping\")\n",
    "    def walk(self):\n",
    "        print(\"walking\")\n",
    "    def play(self):\n",
    "        print(\"playing\")\n",
    "    def study(self):\n",
    "        print(\"studing\")\n",
    "    def details(self):\n",
    "        print(f\" {person.name} has {self.hair}, \\n {self.eyes} eyes, \\n {self.skin} skin color, \\n {self.height} height, \\n {self.weight} weight\")\n",
    "\n",
    "waqas = person(\"black\",\"brown\", \"black\", \"5.10\", 65)\n",
    "\n",
    "waqas.details()"
   ]
  },
  {
   "cell_type": "markdown",
   "id": "01bf2c99-24d0-4538-b513-e2160fa0ed1f",
   "metadata": {},
   "source": [
    "- Created a class with attributes and methods\n",
    "- created static variables using __init__\n",
    "- created class variables:\n",
    "    -  static\n",
    "    - dynami\n",
    "        - __init__\n",
    "        - updatedname method\n"
   ]
  },
  {
   "cell_type": "code",
   "execution_count": null,
   "id": "3d9c33ff-4421-4583-8ab8-dd8ce9b76d65",
   "metadata": {},
   "outputs": [],
   "source": []
  },
  {
   "cell_type": "code",
   "execution_count": 49,
   "id": "98da9c47-4d85-4e7b-9dcf-67bbf88cfd5d",
   "metadata": {},
   "outputs": [],
   "source": [
    "# python semi structure language\n"
   ]
  },
  {
   "cell_type": "markdown",
   "id": "38337bd4-375c-47b3-a679-f2670da67a59",
   "metadata": {},
   "source": [
    "OPP ==> object oriented programming\n",
    "1- inheritance  #wirasat\n",
    "2- Ploymorshism \n",
    "3- Abstraction\n",
    "4- Encapsulation"
   ]
  },
  {
   "cell_type": "markdown",
   "id": "94046785-cd1f-49d9-b0b9-dfa70c9a755c",
   "metadata": {},
   "source": [
    "## Inheritance\n",
    "- single parent single class heritance\n",
    "- extra attributes for single parent single child inheritiance\n",
    "- extra method"
   ]
  },
  {
   "cell_type": "code",
   "execution_count": 52,
   "id": "bc498604-c70d-4327-86be-3198d4d4ec15",
   "metadata": {},
   "outputs": [],
   "source": [
    "class parent():\n",
    "    pass\n",
    "\n",
    "class child(parent):\n",
    "    pass"
   ]
  },
  {
   "cell_type": "code",
   "execution_count": 53,
   "id": "dacb13c5-8016-4dc3-9cf8-e9e57c57d8f4",
   "metadata": {},
   "outputs": [],
   "source": [
    "class parent():\n",
    "    def __init__ (self):\n",
    "        self.haircolor = \"Brown\"\n",
    "        self.eyecolor = \"Brown\"\n",
    "\n",
    "    def property(self):\n",
    "        print(f\"have a car\")\n",
    "\n",
    "class child(parent):\n",
    "    pass"
   ]
  },
  {
   "cell_type": "code",
   "execution_count": 54,
   "id": "e4bca380-5cf5-4c31-b640-7292779c76e7",
   "metadata": {},
   "outputs": [],
   "source": [
    "shahood = child()"
   ]
  },
  {
   "cell_type": "code",
   "execution_count": 55,
   "id": "77b03daf-c1fa-438d-8b05-b3dbef82d726",
   "metadata": {},
   "outputs": [
    {
     "data": {
      "text/plain": [
       "'Brown'"
      ]
     },
     "execution_count": 55,
     "metadata": {},
     "output_type": "execute_result"
    }
   ],
   "source": [
    "shahood.eyecolor"
   ]
  },
  {
   "cell_type": "code",
   "execution_count": 57,
   "id": "8032f42a-65e6-4e8b-a696-3c4f37e70c27",
   "metadata": {},
   "outputs": [
    {
     "data": {
      "text/plain": [
       "'Brown'"
      ]
     },
     "execution_count": 57,
     "metadata": {},
     "output_type": "execute_result"
    }
   ],
   "source": [
    "shahood.haircolor"
   ]
  },
  {
   "cell_type": "code",
   "execution_count": 58,
   "id": "3eabf1c5-eeb1-45fd-bb95-7f118e44ada6",
   "metadata": {},
   "outputs": [
    {
     "name": "stdout",
     "output_type": "stream",
     "text": [
      "have a car\n"
     ]
    }
   ],
   "source": [
    "shahood.property()"
   ]
  },
  {
   "cell_type": "code",
   "execution_count": 59,
   "id": "0ab3300f-6835-4dc1-a432-3497148bff92",
   "metadata": {},
   "outputs": [],
   "source": [
    "class parent():\n",
    "    def __init__ (self):\n",
    "        self.haircolor = \"Brown\"\n",
    "        self.eyecolor = \"Brown\"\n",
    "\n",
    "    def property(self):\n",
    "        print(f\"have a car\")\n",
    "\n",
    "class child(parent):\n",
    "    def __init__ (self, height):\n",
    "        super().__init__()\n",
    "        self.height = height"
   ]
  },
  {
   "cell_type": "code",
   "execution_count": 60,
   "id": "d82b6a76-d6c1-4981-a36d-8b73d1d1b394",
   "metadata": {},
   "outputs": [
    {
     "ename": "TypeError",
     "evalue": "child.__init__() missing 1 required positional argument: 'height'",
     "output_type": "error",
     "traceback": [
      "\u001b[1;31m---------------------------------------------------------------------------\u001b[0m",
      "\u001b[1;31mTypeError\u001b[0m                                 Traceback (most recent call last)",
      "Cell \u001b[1;32mIn[60], line 1\u001b[0m\n\u001b[1;32m----> 1\u001b[0m shahood \u001b[38;5;241m=\u001b[39m child()\n",
      "\u001b[1;31mTypeError\u001b[0m: child.__init__() missing 1 required positional argument: 'height'"
     ]
    }
   ],
   "source": [
    "shahood = child()"
   ]
  },
  {
   "cell_type": "code",
   "execution_count": 61,
   "id": "ade0bf3e-e668-4fbd-a872-efea80679d7a",
   "metadata": {},
   "outputs": [],
   "source": [
    "shahood = child(6)"
   ]
  },
  {
   "cell_type": "code",
   "execution_count": 62,
   "id": "21be0072-cde3-420b-9e12-a8a95d0d89aa",
   "metadata": {},
   "outputs": [
    {
     "data": {
      "text/plain": [
       "'Brown'"
      ]
     },
     "execution_count": 62,
     "metadata": {},
     "output_type": "execute_result"
    }
   ],
   "source": [
    "shahood.eyecolor"
   ]
  },
  {
   "cell_type": "code",
   "execution_count": 63,
   "id": "bab8471c-b329-4392-82ee-0590992fbd82",
   "metadata": {},
   "outputs": [
    {
     "data": {
      "text/plain": [
       "6"
      ]
     },
     "execution_count": 63,
     "metadata": {},
     "output_type": "execute_result"
    }
   ],
   "source": [
    "shahood.height"
   ]
  },
  {
   "cell_type": "code",
   "execution_count": 70,
   "id": "97cb0164-f19d-498c-b440-9045eee1a328",
   "metadata": {},
   "outputs": [],
   "source": [
    "class parent():\n",
    "    def __init__ (self):\n",
    "        self.haircolor = \"Brown\"\n",
    "        self.eyecolor = \"Brown\"\n",
    "\n",
    "    def property(self):\n",
    "        print(f\"have a car\")\n",
    "\n",
    "class child(parent):\n",
    "    def __init__ (self, height, weight):\n",
    "        super().__init__()\n",
    "        self.height = height\n",
    "        self.weight = 70\n",
    "\n",
    "    def drive(self):\n",
    "        print(\"can drive a car\")"
   ]
  },
  {
   "cell_type": "code",
   "execution_count": 71,
   "id": "d50a8dbf-8898-4996-b891-fc325ff6a644",
   "metadata": {},
   "outputs": [],
   "source": [
    "shahood = child(6, 70)"
   ]
  },
  {
   "cell_type": "code",
   "execution_count": 72,
   "id": "18bd9ca0-c7c3-4221-9b56-b25c5e93750c",
   "metadata": {},
   "outputs": [
    {
     "name": "stdout",
     "output_type": "stream",
     "text": [
      "can drive a car\n"
     ]
    }
   ],
   "source": [
    "shahood.drive()"
   ]
  },
  {
   "cell_type": "code",
   "execution_count": 87,
   "id": "7bbb2ae4-22cc-472f-8d2a-626eab6738d7",
   "metadata": {},
   "outputs": [],
   "source": [
    "class animal():\n",
    "\n",
    "    def eat(self):\n",
    "        print(\"can eating\")\n",
    "    def sleep(self):\n",
    "        print(\"can sleeping\")\n",
    "\n",
    "class dog(animal):\n",
    "\n",
    "    def barking(self):\n",
    "        print(\"barking\")\n",
    "\n",
    "check = dog()"
   ]
  },
  {
   "cell_type": "code",
   "execution_count": 90,
   "id": "a598c204-2504-4d3e-8a5c-94c132b9d045",
   "metadata": {},
   "outputs": [
    {
     "name": "stdout",
     "output_type": "stream",
     "text": [
      "can eating\n"
     ]
    }
   ],
   "source": [
    "check.eat()"
   ]
  },
  {
   "cell_type": "code",
   "execution_count": 91,
   "id": "f4daa2ed-5a6e-4cc4-b5db-d6722b1530d2",
   "metadata": {},
   "outputs": [
    {
     "name": "stdout",
     "output_type": "stream",
     "text": [
      "can sleeping\n"
     ]
    }
   ],
   "source": [
    "check.sleep()"
   ]
  },
  {
   "cell_type": "code",
   "execution_count": 92,
   "id": "7f3235f0-ae25-4889-9759-8c20e9b05ab6",
   "metadata": {},
   "outputs": [
    {
     "name": "stdout",
     "output_type": "stream",
     "text": [
      "barking\n"
     ]
    }
   ],
   "source": [
    "check.barking() "
   ]
  },
  {
   "cell_type": "code",
   "execution_count": null,
   "id": "3cd2e268-97e9-4449-a292-5457ad9d137f",
   "metadata": {},
   "outputs": [],
   "source": []
  }
 ],
 "metadata": {
  "kernelspec": {
   "display_name": "Python 3 (ipykernel)",
   "language": "python",
   "name": "python3"
  },
  "language_info": {
   "codemirror_mode": {
    "name": "ipython",
    "version": 3
   },
   "file_extension": ".py",
   "mimetype": "text/x-python",
   "name": "python",
   "nbconvert_exporter": "python",
   "pygments_lexer": "ipython3",
   "version": "3.11.10"
  }
 },
 "nbformat": 4,
 "nbformat_minor": 5
}
