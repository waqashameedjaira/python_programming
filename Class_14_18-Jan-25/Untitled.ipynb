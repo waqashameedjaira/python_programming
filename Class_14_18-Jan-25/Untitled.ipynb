{
 "cells": [
  {
   "cell_type": "raw",
   "id": "19b1181f-107c-4f75-97cd-c88d06871dcc",
   "metadata": {},
   "source": [
    "from selenium import webdriver\n",
    "from selenium.webdriver.common.by import By\n",
    "from selenium.webdriver.chrome.options import Options"
   ]
  },
  {
   "cell_type": "raw",
   "id": "10741686-1c06-48e2-9bee-8c07f9c87698",
   "metadata": {},
   "source": [
    "options = Options()\n",
    "\n",
    "options.add_argument('--start-maximized')\n",
    "driver = webdriver.Chrome(options=options)"
   ]
  },
  {
   "cell_type": "raw",
   "id": "c78356f7-d3de-423f-8901-386604cca8d6",
   "metadata": {},
   "source": [
    "driver.get('https://pk.indeed.com/')"
   ]
  },
  {
   "cell_type": "code",
   "execution_count": 25,
   "id": "a4ae5f06-c3fc-4c29-89da-fadeb260788e",
   "metadata": {},
   "outputs": [
    {
     "data": {
      "text/plain": [
       "{'identifier': '2'}"
      ]
     },
     "execution_count": 25,
     "metadata": {},
     "output_type": "execute_result"
    }
   ],
   "source": [
    "from selenium import webdriver\n",
    "from selenium.webdriver.chrome.service import Service\n",
    "from selenium.webdriver.chrome.options import Options\n",
    "from selenium.webdriver.common.by import By\n",
    "from webdriver_manager.chrome import ChromeDriverManager\n",
    "\n",
    "options = Options()\n",
    "options.add_argument(\"--disable-blink-features=AutomationControlled\")\n",
    "options.add_experimental_option(\"excludeSwitches\", [\"enable-automation\"])\n",
    "options.add_experimental_option(\"useAutomationExtension\", False)\n",
    "\n",
    "driver = webdriver.Chrome(service=Service(ChromeDriverManager().install()), options=options)\n",
    "driver.execute_cdp_cmd(\"Page.addScriptToEvaluateOnNewDocument\", {\n",
    "    \"source\": \"\"\"\n",
    "    Object.defineProperty(navigator, 'webdriver', {\n",
    "      get: () => undefined\n",
    "    })\n",
    "    \"\"\"\n",
    "})"
   ]
  },
  {
   "cell_type": "code",
   "execution_count": 26,
   "id": "eec34b1a-3fb8-4e25-a356-456aabbfae52",
   "metadata": {},
   "outputs": [],
   "source": [
    "driver.get('https://pk.indeed.com/')"
   ]
  },
  {
   "cell_type": "code",
   "execution_count": 38,
   "id": "def0b02d-1c31-4bd6-b552-f96f228e4a9c",
   "metadata": {},
   "outputs": [],
   "source": [
    "job_input = driver.find_element(By.ID,\"text-input-what\")\n",
    "location_input = driver.find_element(By.ID,\"text-input-where\")\n",
    "job_input.send_keys('Data Engineer')\n",
    "location_input.send_keys('karachi')"
   ]
  },
  {
   "cell_type": "code",
   "execution_count": 39,
   "id": "f3c2cd8b-10e7-4764-a395-b8bb54d3a002",
   "metadata": {},
   "outputs": [],
   "source": [
    "jobs_data = driver.find_elements(By.CLASS_NAME,'css-1ac2h1w.eu4oa1w0')\n",
    "# replace spaces between class name (.)\n",
    "jobs_data[1].click()"
   ]
  },
  {
   "cell_type": "code",
   "execution_count": 40,
   "id": "f4668262-3b14-4afb-ba3e-6480315868f4",
   "metadata": {},
   "outputs": [],
   "source": [
    "find_job_button = driver.find_element(By.XPATH,'//*[@id=\"jobsearch\"]/div/div[2]/button')\n",
    "find_job_button.click()"
   ]
  },
  {
   "cell_type": "code",
   "execution_count": 42,
   "id": "94c49f01-848f-47f8-86f2-0846025f0171",
   "metadata": {},
   "outputs": [
    {
     "name": "stdout",
     "output_type": "stream",
     "text": [
      "Trainee Data Engineer\n",
      "- job post\n"
     ]
    }
   ],
   "source": [
    "job_title = driver.find_element(By.XPATH,'//*[@id=\"jobsearch-ViewjobPaneWrapper\"]/div/div[2]/div[2]/div[1]/div/div[1]/div[1]/h2/span').text\n",
    "print(job_title)"
   ]
  },
  {
   "cell_type": "code",
   "execution_count": 44,
   "id": "a8f0091f-d175-4434-8b7a-83fd8c41abc9",
   "metadata": {},
   "outputs": [
    {
     "name": "stdout",
     "output_type": "stream",
     "text": [
      "Squarera\n"
     ]
    }
   ],
   "source": [
    "company_name = driver.find_element(By.XPATH,'//*[@id=\"jobsearch-ViewjobPaneWrapper\"]/div/div[2]/div[2]/div[1]/div/div[1]/div[2]/div/div/div/div[1]/div[1]/span/a').text\n",
    "print(company_name)"
   ]
  },
  {
   "cell_type": "code",
   "execution_count": 45,
   "id": "58b205af-e8b1-42fa-b50b-3c623cecebbe",
   "metadata": {},
   "outputs": [
    {
     "name": "stdout",
     "output_type": "stream",
     "text": [
      "Apply now\n"
     ]
    }
   ],
   "source": [
    "job_apply_link = driver.find_element(By.XPATH,'//*[@id=\"indeedApplyButton\"]/div/span').text\n",
    "print(job_apply_link)"
   ]
  },
  {
   "cell_type": "code",
   "execution_count": null,
   "id": "539c426e-caa8-4ede-b2b5-e46333d9416b",
   "metadata": {},
   "outputs": [],
   "source": []
  }
 ],
 "metadata": {
  "kernelspec": {
   "display_name": "Python 3 (ipykernel)",
   "language": "python",
   "name": "python3"
  },
  "language_info": {
   "codemirror_mode": {
    "name": "ipython",
    "version": 3
   },
   "file_extension": ".py",
   "mimetype": "text/x-python",
   "name": "python",
   "nbconvert_exporter": "python",
   "pygments_lexer": "ipython3",
   "version": "3.11.10"
  }
 },
 "nbformat": 4,
 "nbformat_minor": 5
}
