{
 "cells": [
  {
   "cell_type": "code",
   "execution_count": 2,
   "id": "3d19bbc1-5dd7-4111-b925-6e92c7b59213",
   "metadata": {},
   "outputs": [],
   "source": [
    "class Vehicle():\n",
    "    def __init__(self):\n",
    "        self.started = \"Yes\"\n",
    "        self.speed = 120\n",
    "\n",
    "class Car(Vehicle):\n",
    "    def __init__(self, open_trunk, close_trunk):\n",
    "        super().__init__()\n",
    "        self.open_trunk = open_trunk\n",
    "        self.close_trunk = close_trunk\n",
    "\n",
    "class Motercycle(Vehicle):\n",
    "    def __init__(self, center_stand_out):\n",
    "        super().__init__()\n",
    "        self.center_stand_out = center_stand_out"
   ]
  },
  {
   "cell_type": "code",
   "execution_count": null,
   "id": "c6f574f8-3e7b-4afb-a194-3daadfe3c90e",
   "metadata": {},
   "outputs": [],
   "source": []
  },
  {
   "cell_type": "code",
   "execution_count": null,
   "id": "1fab862c-bf9e-44dd-8c33-94243425648a",
   "metadata": {},
   "outputs": [],
   "source": []
  },
  {
   "cell_type": "code",
   "execution_count": null,
   "id": "d99dbc56-3889-42b1-af45-9309ff3e3559",
   "metadata": {},
   "outputs": [],
   "source": []
  },
  {
   "cell_type": "code",
   "execution_count": 3,
   "id": "d1a55c3d-e364-42f9-bdfe-c22b30b925c3",
   "metadata": {},
   "outputs": [],
   "source": [
    "#ABSTRACTION"
   ]
  },
  {
   "cell_type": "code",
   "execution_count": 5,
   "id": "0fd5f8dc-9441-4cb5-8750-1ac8822163e3",
   "metadata": {},
   "outputs": [],
   "source": [
    "class shapes():\n",
    "    #abstract method\n",
    "    def sides(self):\n",
    "        pass"
   ]
  },
  {
   "cell_type": "code",
   "execution_count": 6,
   "id": "34b0866e-d32f-445b-949d-8f7e2189c02c",
   "metadata": {},
   "outputs": [],
   "source": [
    "class triangle(shapes):\n",
    "\n",
    "    def sides(self):\n",
    "        print('Traingle has 3 sides....')\n",
    "\n",
    "class square(shapes):\n",
    "    def sides(self):\n",
    "        print('Square has 4 sides....')"
   ]
  },
  {
   "cell_type": "code",
   "execution_count": 8,
   "id": "fc330976-a927-4101-bef2-d36dd4356820",
   "metadata": {},
   "outputs": [
    {
     "name": "stdout",
     "output_type": "stream",
     "text": [
      "Square has 4 sides....\n"
     ]
    }
   ],
   "source": [
    "square_obj = square()\n",
    "square_obj.sides()"
   ]
  },
  {
   "cell_type": "code",
   "execution_count": 9,
   "id": "a8db7282-9504-4175-8f41-29996dc9e1a2",
   "metadata": {},
   "outputs": [],
   "source": [
    "## Ploymorphsim"
   ]
  },
  {
   "cell_type": "code",
   "execution_count": 10,
   "id": "8319b8e7-4bee-406d-bccf-4367a2e5af28",
   "metadata": {},
   "outputs": [],
   "source": [
    "class Animal():\n",
    "    def eating(self):\n",
    "        print(\"Animal is eating\")\n",
    "\n",
    "class Brid(Animal)\n",
    "    def eating(self): @same method as in parent class\n",
    "        print(\"Bird is eating food\")   # child method override the parents method"
   ]
  },
  {
   "cell_type": "code",
   "execution_count": 12,
   "id": "65e2ac5a-e23f-47a0-a1de-02d8ff569d57",
   "metadata": {},
   "outputs": [
    {
     "name": "stdout",
     "output_type": "stream",
     "text": [
      "Animal is eating\n"
     ]
    }
   ],
   "source": [
    "animal_obj = Animal()\n",
    "animal_obj.eating()"
   ]
  },
  {
   "cell_type": "code",
   "execution_count": 13,
   "id": "86b752e6-6abf-4b1f-bea9-854edb611a0d",
   "metadata": {},
   "outputs": [
    {
     "name": "stdout",
     "output_type": "stream",
     "text": [
      "Bird is eating food\n"
     ]
    }
   ],
   "source": [
    "brid_obj = Brid()\n",
    "brid_obj.eating() # what should be printed out & why?"
   ]
  },
  {
   "cell_type": "code",
   "execution_count": 14,
   "id": "838cd0f8-6c0e-4497-82b5-f59f0f7c9492",
   "metadata": {},
   "outputs": [],
   "source": [
    "num = 10"
   ]
  },
  {
   "cell_type": "code",
   "execution_count": 15,
   "id": "d20b36a1-41af-46bc-b82e-aad4f65b80d6",
   "metadata": {},
   "outputs": [
    {
     "data": {
      "text/plain": [
       "10"
      ]
     },
     "execution_count": 15,
     "metadata": {},
     "output_type": "execute_result"
    }
   ],
   "source": [
    "num"
   ]
  },
  {
   "cell_type": "code",
   "execution_count": 16,
   "id": "672915f7-3911-4f2b-8406-793ee80f7b52",
   "metadata": {},
   "outputs": [
    {
     "data": {
      "text/plain": [
       "12"
      ]
     },
     "execution_count": 16,
     "metadata": {},
     "output_type": "execute_result"
    }
   ],
   "source": [
    "num = 12\n",
    "num"
   ]
  },
  {
   "cell_type": "code",
   "execution_count": null,
   "id": "eae248cc-6247-4634-930e-cae119a0a3bc",
   "metadata": {},
   "outputs": [],
   "source": []
  },
  {
   "cell_type": "code",
   "execution_count": 18,
   "id": "a7e1679a-1aa2-4650-8f19-fb989de45ad2",
   "metadata": {},
   "outputs": [],
   "source": [
    "class Vehicle():\n",
    "    def __init__(self,speed,change_gear,gear_show):\n",
    "        self.speed = speed\n",
    "        self.change_gear = change_gear\n",
    "        self.gear_show = gear_show\n",
    "\n",
    "class Car(Vehicle):\n",
    "    def speed(self):\n",
    "        print(\"Car speed is 240\")\n",
    "\n",
    "class Truck(Car):\n",
    "    def speed(self):\n",
    "        print(\"Truck speed is 200\")"
   ]
  },
  {
   "cell_type": "markdown",
   "id": "6b9a404c-244b-403d-9264-1b70fc45f7aa",
   "metadata": {},
   "source": [
    "### Encapsulation\n",
    "\n",
    "- the methodology / process of hiding the attributes / methond called encapsulation\n",
    "      /n.1. public\n",
    "      2. private\n",
    "      3. protected"
   ]
  },
  {
   "cell_type": "code",
   "execution_count": 28,
   "id": "0ac8274d-251d-4b1e-a6d7-015cbab6b822",
   "metadata": {},
   "outputs": [],
   "source": [
    "class Saylani():\n",
    "    def __init__(self):\n",
    "        self.campus = \"Zaitoon Ashraf\"\n",
    "        self.helping = \"090078601\"\n",
    "        self.staff_contact = \"0300-123456\""
   ]
  },
  {
   "cell_type": "code",
   "execution_count": 30,
   "id": "552b413d-7c74-4236-85a3-11ee100a9ae2",
   "metadata": {},
   "outputs": [],
   "source": [
    "class Saylani():\n",
    "    def __init__(self):\n",
    "        self.campus = \"Zaitoon Ashraf\"\n",
    "        self._helping = \"090078601\"  #protected\n",
    "        self.__staff_contact = \"0300-123456\" # double underscore :  private"
   ]
  },
  {
   "cell_type": "code",
   "execution_count": 31,
   "id": "cf578bda-c4fe-49d0-bac5-f306c42210cf",
   "metadata": {},
   "outputs": [
    {
     "ename": "NameError",
     "evalue": "name 'self' is not defined",
     "output_type": "error",
     "traceback": [
      "\u001b[1;31m---------------------------------------------------------------------------\u001b[0m",
      "\u001b[1;31mNameError\u001b[0m                                 Traceback (most recent call last)",
      "Cell \u001b[1;32mIn[31], line 1\u001b[0m\n\u001b[1;32m----> 1\u001b[0m \u001b[38;5;28mself\u001b[39m\u001b[38;5;241m.\u001b[39mhelping\n",
      "\u001b[1;31mNameError\u001b[0m: name 'self' is not defined"
     ]
    }
   ],
   "source": []
  },
  {
   "cell_type": "markdown",
   "id": "b1713b6a-7db3-4503-ad6f-2f3a2a15f689",
   "metadata": {},
   "source": [
    "### Exaple : Encapsulation\n",
    "\n",
    "Task: Create a login class that uses the concepts of encapsulation & do validation before login & aslo privide the capability to update the password."
   ]
  },
  {
   "cell_type": "code",
   "execution_count": 35,
   "id": "2db6d1e9-94c4-4f35-84e6-aa88c468cdfa",
   "metadata": {},
   "outputs": [],
   "source": [
    "class login():\n",
    "    def __init__(self):\n",
    "        sefl._user_name = \"Admin\"\n",
    "        self._password = \"Admin\"\n",
    "\n",
    "def __dbconnectivity(self, user_name, password):\n",
    "    if user_name == self._user_name and password == self._password:\n",
    "        print(\"Database connected\")\n",
    "        print(\"Login Successfully\")\n",
    "    else:\n",
    "        print(\"Login Failed\")\n",
    "\n",
    "def update_password(self, new_pass):\n",
    "    self._password = new_pass\n",
    "    print(\"password updated\")\n",
    "\n",
    "def login(self, user_name, password):\n",
    "    self.__dbconnectivity(user_name, password)"
   ]
  },
  {
   "cell_type": "code",
   "execution_count": 36,
   "id": "d1674939-e7dd-4f10-b26a-c73e63d58752",
   "metadata": {},
   "outputs": [
    {
     "ename": "TypeError",
     "evalue": "login() missing 3 required positional arguments: 'self', 'user_name', and 'password'",
     "output_type": "error",
     "traceback": [
      "\u001b[1;31m---------------------------------------------------------------------------\u001b[0m",
      "\u001b[1;31mTypeError\u001b[0m                                 Traceback (most recent call last)",
      "Cell \u001b[1;32mIn[36], line 1\u001b[0m\n\u001b[1;32m----> 1\u001b[0m user \u001b[38;5;241m=\u001b[39m login()\n\u001b[0;32m      2\u001b[0m user\u001b[38;5;241m.\u001b[39mlogin(\u001b[38;5;124m'\u001b[39m\u001b[38;5;124mAdmin\u001b[39m\u001b[38;5;124m'\u001b[39m, \u001b[38;5;124m'\u001b[39m\u001b[38;5;124madmin\u001b[39m\u001b[38;5;124m'\u001b[39m)\n\u001b[0;32m      3\u001b[0m user\u001b[38;5;241m.\u001b[39mlogin(\u001b[38;5;124m'\u001b[39m\u001b[38;5;124mAdmin\u001b[39m\u001b[38;5;124m'\u001b[39m, \u001b[38;5;124m\"\u001b[39m\u001b[38;5;124mAdmin\u001b[39m\u001b[38;5;124m\"\u001b[39m)\n",
      "\u001b[1;31mTypeError\u001b[0m: login() missing 3 required positional arguments: 'self', 'user_name', and 'password'"
     ]
    }
   ],
   "source": [
    "user = login()\n",
    "user.login('Admin', 'admin')\n",
    "user.login('Admin', \"Admin\")"
   ]
  },
  {
   "cell_type": "markdown",
   "id": "0047f9e0-d236-40ae-a54d-7c293b513be9",
   "metadata": {},
   "source": [
    "### Method overloading"
   ]
  },
  {
   "cell_type": "code",
   "execution_count": 38,
   "id": "1ba0de30-d9b7-44aa-a8ad-b16ad2673096",
   "metadata": {},
   "outputs": [],
   "source": [
    " #  \"@\" is decorator"
   ]
  },
  {
   "cell_type": "code",
   "execution_count": null,
   "id": "44818512-e42e-4486-9d00-f1ed7f7ed811",
   "metadata": {},
   "outputs": [],
   "source": [
    "class Addition():\n",
    "    @overload\n",
    "    def add(self,x:int,y:int) ->int:\n",
    "        ...\n",
    "    def add(self, x:float, y:float) ->float:\n",
    "\n",
    "    def add(self, x:str, y:str) -> str:\n",
    "        "
   ]
  }
 ],
 "metadata": {
  "kernelspec": {
   "display_name": "Python 3 (ipykernel)",
   "language": "python",
   "name": "python3"
  },
  "language_info": {
   "codemirror_mode": {
    "name": "ipython",
    "version": 3
   },
   "file_extension": ".py",
   "mimetype": "text/x-python",
   "name": "python",
   "nbconvert_exporter": "python",
   "pygments_lexer": "ipython3",
   "version": "3.11.10"
  }
 },
 "nbformat": 4,
 "nbformat_minor": 5
}
